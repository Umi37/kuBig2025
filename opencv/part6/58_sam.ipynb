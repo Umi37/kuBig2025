{
 "cells": [
  {
   "cell_type": "code",
   "execution_count": 2,
   "id": "9d5ad88a",
   "metadata": {},
   "outputs": [
    {
     "name": "stdout",
     "output_type": "stream",
     "text": [
      "Defaulting to user installation because normal site-packages is not writeable\n",
      "Collecting git+https://github.com/facebookresearch/segment-anything.git\n",
      "  Cloning https://github.com/facebookresearch/segment-anything.git to /tmp/pip-req-build-8jkw1kan\n",
      "  Running command git clone --filter=blob:none --quiet https://github.com/facebookresearch/segment-anything.git /tmp/pip-req-build-8jkw1kan\n",
      "  Resolved https://github.com/facebookresearch/segment-anything.git to commit dca509fe793f601edb92606367a655c15ac00fdf\n",
      "  Preparing metadata (setup.py) ... \u001b[?25ldone\n",
      "\u001b[?25h"
     ]
    }
   ],
   "source": [
    "!pip install git+https://github.com/facebookresearch/segment-anything.git\n"
   ]
  },
  {
   "cell_type": "code",
   "execution_count": 4,
   "id": "119fe1fe",
   "metadata": {},
   "outputs": [
    {
     "name": "stdout",
     "output_type": "stream",
     "text": [
      "--2025-06-08 22:02:05--  https://dl.fbaipublicfiles.com/segment_anything/sam_vit_h_4b8939.pth\n",
      "dl.fbaipublicfiles.com (dl.fbaipublicfiles.com) 해석 중... 3.168.167.115, 3.168.167.13, 3.168.167.7, ...\n",
      "다음으로 연결 중: dl.fbaipublicfiles.com (dl.fbaipublicfiles.com)|3.168.167.115|:443... 연결했습니다.\n"
     ]
    },
    {
     "name": "stdout",
     "output_type": "stream",
     "text": [
      "HTTP 요청을 보냈습니다. 응답 기다리는 중... 416 Requested Range Not Satisfiable\n",
      "\n",
      "    이미 파일을 완전히 전송했습니다. 할 일 없음.\n",
      "\n"
     ]
    }
   ],
   "source": [
    "!wget -c https://dl.fbaipublicfiles.com/segment_anything/sam_vit_h_4b8939.pth\n"
   ]
  },
  {
   "cell_type": "code",
   "execution_count": 6,
   "id": "150b32cb",
   "metadata": {},
   "outputs": [
    {
     "name": "stdout",
     "output_type": "stream",
     "text": [
      "--2025-06-08 22:02:23--  https://raw.githubusercontent.com/spmallick/learnopencv/refs/heads/master/Segment-Anything-A-Foundation-Model-for-Image-Segmentation/input/image_4.jpg\n",
      "raw.githubusercontent.com (raw.githubusercontent.com) 해석 중... 185.199.109.133, 185.199.108.133, 185.199.110.133, ...\n",
      "다음으로 연결 중: raw.githubusercontent.com (raw.githubusercontent.com)|185.199.109.133|:443... 연결했습니다.\n",
      "HTTP 요청을 보냈습니다. 응답 기다리는 중... 200 OK\n",
      "길이: 22018 (22K) [image/jpeg]\n",
      "저장 위치: ‘image_4.jpg.1’\n",
      "\n",
      "image_4.jpg.1       100%[===================>]  21.50K  --.-KB/s    / 0.001s   \n",
      "\n",
      "2025-06-08 22:02:23 (15.6 MB/s) - ‘image_4.jpg.1’ 저장함 [22018/22018]\n",
      "\n"
     ]
    },
    {
     "name": "stdout",
     "output_type": "stream",
     "text": [
      "--2025-06-08 22:02:23--  https://raw.githubusercontent.com/spmallick/learnopencv/refs/heads/master/Segment-Anything-A-Foundation-Model-for-Image-Segmentation/input/image_3.jpg\n",
      "raw.githubusercontent.com (raw.githubusercontent.com) 해석 중... 185.199.108.133, 185.199.111.133, 185.199.109.133, ...\n",
      "다음으로 연결 중: raw.githubusercontent.com (raw.githubusercontent.com)|185.199.108.133|:443... 연결했습니다.\n",
      "HTTP 요청을 보냈습니다. 응답 기다리는 중... 200 OK\n",
      "길이: 404643 (395K) [image/jpeg]\n",
      "저장 위치: ‘image_3.jpg.1’\n",
      "\n",
      "image_3.jpg.1       100%[===================>] 395.16K  --.-KB/s    / 0.05s    \n",
      "\n",
      "2025-06-08 22:02:23 (8.35 MB/s) - ‘image_3.jpg.1’ 저장함 [404643/404643]\n",
      "\n"
     ]
    }
   ],
   "source": [
    "!wget https://raw.githubusercontent.com/spmallick/learnopencv/refs/heads/master/Segment-Anything-A-Foundation-Model-for-Image-Segmentation/input/image_4.jpg\n",
    "!wget https://raw.githubusercontent.com/spmallick/learnopencv/refs/heads/master/Segment-Anything-A-Foundation-Model-for-Image-Segmentation/input/image_3.jpg\n"
   ]
  },
  {
   "cell_type": "code",
   "execution_count": 8,
   "id": "f970b6d0",
   "metadata": {},
   "outputs": [],
   "source": [
    "import cv2\n",
    "import matplotlib.pyplot as plt\n",
    "import numpy as np\n",
    "from segment_anything import SamAutomaticMaskGenerator, sam_model_registry\n",
    "import os"
   ]
  },
  {
   "cell_type": "code",
   "execution_count": 10,
   "id": "2d5b229e",
   "metadata": {},
   "outputs": [],
   "source": [
    "def show_anns(anns):\n",
    "    if len(anns) == 0:\n",
    "        return\n",
    "    sorted_anns = sorted(anns, key=(lambda x: x[\"area\"]), reverse=True)\n",
    "    ax = plt.gca()\n",
    "    ax.set_autoscale_on(False)\n",
    "    for ann in sorted_anns:\n",
    "        m = ann[\"segmentation\"]\n",
    "        img = np.ones((m.shape[0], m.shape[1], 3))\n",
    "        color_mask = np.random.random((1, 3)).tolist()[0]\n",
    "        for i in range(3):\n",
    "            img[:, :, i] = color_mask[i]\n",
    "        np.dstack((img, m * 0.35))\n",
    "        ax.imshow(np.dstack((img, m * 0.35)))"
   ]
  },
  {
   "cell_type": "code",
   "execution_count": null,
   "id": "5fcce674",
   "metadata": {},
   "outputs": [],
   "source": [
    "sam = sam_model_registry[\"vit_h\"](checkpoint=\"/home/woo/kuBig2025/opencv/part6/sam_vit_h_4b8939.pth\")\n",
    "# sam.cuda()\n",
    "mask_generator = SamAutomaticMaskGenerator(sam)\n",
    "\n",
    "image_path = \"image_3.jpg\"\n",
    "image_name = image_path.split(os.path.sep)[-1]\n",
    "image = cv2.imread(image_path)\n",
    "image = cv2.cvtColor(image, cv2.COLOR_BGR2RGB)\n",
    "masks = mask_generator.generate(image)\n",
    "plt.figure(figsize=(12, 9))\n",
    "plt.imshow(image)\n",
    "show_anns(masks)\n",
    "plt.axis(\"off\")\n",
    "plt.savefig(os.path.join(\"outputs\", image_name), bbox_inches=\"tight\")"
   ]
  }
 ],
 "metadata": {
  "kernelspec": {
   "display_name": "Python 3",
   "language": "python",
   "name": "python3"
  },
  "language_info": {
   "codemirror_mode": {
    "name": "ipython",
    "version": 3
   },
   "file_extension": ".py",
   "mimetype": "text/x-python",
   "name": "python",
   "nbconvert_exporter": "python",
   "pygments_lexer": "ipython3",
   "version": "3.10.12"
  }
 },
 "nbformat": 4,
 "nbformat_minor": 5
}
