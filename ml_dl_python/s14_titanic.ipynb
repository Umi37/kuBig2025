{
 "cells": [
  {
   "cell_type": "markdown",
   "id": "757ab821",
   "metadata": {},
   "source": [
    "# 나이 예측해보기"
   ]
  },
  {
   "cell_type": "code",
   "execution_count": 112,
   "id": "539a982d",
   "metadata": {},
   "outputs": [
    {
     "name": "stdout",
     "output_type": "stream",
     "text": [
      "<class 'pandas.core.frame.DataFrame'>\n",
      "RangeIndex: 891 entries, 0 to 890\n",
      "Data columns (total 12 columns):\n",
      " #   Column       Non-Null Count  Dtype  \n",
      "---  ------       --------------  -----  \n",
      " 0   PassengerId  891 non-null    int64  \n",
      " 1   Survived     891 non-null    int64  \n",
      " 2   Pclass       891 non-null    int64  \n",
      " 3   Name         891 non-null    object \n",
      " 4   Sex          891 non-null    object \n",
      " 5   Age          714 non-null    float64\n",
      " 6   SibSp        891 non-null    int64  \n",
      " 7   Parch        891 non-null    int64  \n",
      " 8   Ticket       891 non-null    object \n",
      " 9   Fare         891 non-null    float64\n",
      " 10  Cabin        204 non-null    object \n",
      " 11  Embarked     889 non-null    object \n",
      "dtypes: float64(2), int64(5), object(5)\n",
      "memory usage: 83.7+ KB\n",
      "None\n",
      "   PassengerId  Survived  Pclass  \\\n",
      "0            1         0       3   \n",
      "1            2         1       1   \n",
      "2            3         1       3   \n",
      "3            4         1       1   \n",
      "4            5         0       3   \n",
      "\n",
      "                                                Name     Sex   Age  SibSp  \\\n",
      "0                            Braund, Mr. Owen Harris    male  22.0      1   \n",
      "1  Cumings, Mrs. John Bradley (Florence Briggs Th...  female  38.0      1   \n",
      "2                             Heikkinen, Miss. Laina  female  26.0      0   \n",
      "3       Futrelle, Mrs. Jacques Heath (Lily May Peel)  female  35.0      1   \n",
      "4                           Allen, Mr. William Henry    male  35.0      0   \n",
      "\n",
      "   Parch            Ticket     Fare Cabin Embarked  \n",
      "0      0         A/5 21171   7.2500   NaN        S  \n",
      "1      0          PC 17599  71.2833   C85        C  \n",
      "2      0  STON/O2. 3101282   7.9250   NaN        S  \n",
      "3      0            113803  53.1000  C123        S  \n",
      "4      0            373450   8.0500   NaN        S  \n"
     ]
    }
   ],
   "source": [
    "import pandas as pd\n",
    "\n",
    "data = pd.read_csv(\"/home/woo/kuBig2025/ml_dl_python/data/titanic/train.csv\")\n",
    "print(data.info())\n",
    "print(data.head()) \n"
   ]
  },
  {
   "cell_type": "code",
   "execution_count": 113,
   "id": "31d9f107",
   "metadata": {},
   "outputs": [
    {
     "name": "stdout",
     "output_type": "stream",
     "text": [
      "                                                Name   Title\n",
      "0                            Braund, Mr. Owen Harris      Mr\n",
      "1  Cumings, Mrs. John Bradley (Florence Briggs Th...     Mrs\n",
      "2                             Heikkinen, Miss. Laina    Miss\n",
      "3       Futrelle, Mrs. Jacques Heath (Lily May Peel)     Mrs\n",
      "4                           Allen, Mr. William Henry      Mr\n",
      "5                                   Moran, Mr. James      Mr\n",
      "6                            McCarthy, Mr. Timothy J      Mr\n",
      "7                     Palsson, Master. Gosta Leonard  Master\n",
      "8  Johnson, Mrs. Oscar W (Elisabeth Vilhelmina Berg)     Mrs\n",
      "9                Nasser, Mrs. Nicholas (Adele Achem)     Mrs\n"
     ]
    }
   ],
   "source": [
    "# 이름에서 'Mr.', 'Mrs.' 같은 호칭 추출\n",
    "data['Title'] = data['Name'].str.extract(r' ([A-Za-z]+)\\.', expand=False)\n",
    "\n",
    "# 결과 확인\n",
    "print(data[['Name', 'Title']].head(10))  # 상위 10개만 확인\n"
   ]
  },
  {
   "cell_type": "code",
   "execution_count": 114,
   "id": "80de3829",
   "metadata": {},
   "outputs": [],
   "source": [
    "# Title을 간소화\n",
    "data['Title'] = data['Title'].replace(['Mlle', 'Ms'], 'Miss')\n",
    "data['Title'] = data['Title'].replace(['Mme'], 'Mrs')\n",
    "\n",
    "# 등장 빈도가 낮은 희귀 호칭들을 Rare로 묶기\n",
    "rare_titles = [\n",
    "    'Dr', 'Rev', 'Col', 'Major', 'Lady', 'Don', 'Dona', 'Jonkheer', 'Capt', 'Countess', 'Sir'\n",
    "]\n",
    "data['Title'] = data['Title'].replace(rare_titles, 'Rare')\n"
   ]
  },
  {
   "cell_type": "code",
   "execution_count": 115,
   "id": "a9545cd9",
   "metadata": {},
   "outputs": [
    {
     "name": "stdout",
     "output_type": "stream",
     "text": [
      "Title\n",
      "Mr        517\n",
      "Miss      185\n",
      "Mrs       126\n",
      "Master     40\n",
      "Rare       23\n",
      "Name: count, dtype: int64\n"
     ]
    }
   ],
   "source": [
    "print(data['Title'].value_counts())\n"
   ]
  },
  {
   "cell_type": "code",
   "execution_count": 116,
   "id": "ecb8ff41",
   "metadata": {},
   "outputs": [
    {
     "name": "stdout",
     "output_type": "stream",
     "text": [
      "                                                  Name     Sex   Age Title\n",
      "30                            Uruchurtu, Don. Manuel E    male  40.0  Rare\n",
      "149                  Byles, Rev. Thomas Roussel Davids    male  42.0  Rare\n",
      "150                         Bateman, Rev. Robert James    male  51.0  Rare\n",
      "245                        Minahan, Dr. William Edward    male  44.0  Rare\n",
      "249                      Carter, Rev. Ernest Courtenay    male  54.0  Rare\n",
      "317                               Moraweck, Dr. Ernest    male  54.0  Rare\n",
      "398                                   Pain, Dr. Alfred    male  23.0  Rare\n",
      "449                     Peuchen, Major. Arthur Godfrey    male  52.0  Rare\n",
      "536                  Butt, Major. Archibald Willingham    male  45.0  Rare\n",
      "556  Duff Gordon, Lady. (Lucille Christiana Sutherl...  female  48.0  Rare\n",
      "599       Duff Gordon, Sir. Cosmo Edmund (\"Mr Morgan\")    male  49.0  Rare\n",
      "626                     Kirkland, Rev. Charles Leonard    male  57.0  Rare\n",
      "632                          Stahelin-Maeglin, Dr. Max    male  32.0  Rare\n",
      "647                Simonius-Blumer, Col. Oberst Alfons    male  56.0  Rare\n",
      "660                      Frauenthal, Dr. Henry William    male  50.0  Rare\n",
      "694                                    Weir, Col. John    male  60.0  Rare\n",
      "745                       Crosby, Capt. Edward Gifford    male  70.0  Rare\n",
      "759  Rothes, the Countess. of (Lucy Noel Martha Dye...  female  33.0  Rare\n",
      "766                          Brewe, Dr. Arthur Jackson    male   NaN  Rare\n",
      "796                        Leader, Dr. Alice (Farnham)  female  49.0  Rare\n",
      "822                    Reuchlin, Jonkheer. John George    male  38.0  Rare\n",
      "848                                  Harper, Rev. John    male  28.0  Rare\n",
      "886                              Montvila, Rev. Juozas    male  27.0  Rare\n"
     ]
    }
   ],
   "source": [
    "# Title이 'Rare'인 사람들만 추출\n",
    "rare_data = data[data['Title'] == 'Rare']\n",
    "\n",
    "# 이름과 원래 호칭을 함께 보기 위해 Name 컬럼 포함해서 출력\n",
    "print(rare_data[['Name', 'Sex', 'Age', 'Title']])\n"
   ]
  },
  {
   "cell_type": "markdown",
   "id": "a00761b6",
   "metadata": {},
   "source": [
    "### 어린아이들의 호칭 확인 (15세 이하)"
   ]
  },
  {
   "cell_type": "code",
   "execution_count": 117,
   "id": "19255caa",
   "metadata": {},
   "outputs": [
    {
     "name": "stdout",
     "output_type": "stream",
     "text": [
      "어린이 수: 78\n"
     ]
    }
   ],
   "source": [
    "# 나이가 15세 미만인 데이터만 추출\n",
    "children = data[data['Age'] < 15]\n",
    "\n",
    "# 몇 명인지 확인\n",
    "print(\"어린이 수:\", len(children))\n"
   ]
  },
  {
   "cell_type": "code",
   "execution_count": 118,
   "id": "9c5d1342",
   "metadata": {},
   "outputs": [
    {
     "name": "stdout",
     "output_type": "stream",
     "text": [
      "Title\n",
      "Miss      38\n",
      "Master    36\n",
      "Mr         3\n",
      "Mrs        1\n",
      "Name: count, dtype: int64\n"
     ]
    }
   ],
   "source": [
    "# 어린이들의 Title 분포 보기\n",
    "print(children['Title'].value_counts())\n"
   ]
  },
  {
   "cell_type": "code",
   "execution_count": 119,
   "id": "9f66dab2",
   "metadata": {},
   "outputs": [
    {
     "name": "stdout",
     "output_type": "stream",
     "text": [
      "                                        Name     Sex    Age   Title\n",
      "7             Palsson, Master. Gosta Leonard    male   2.00  Master\n",
      "9        Nasser, Mrs. Nicholas (Adele Achem)  female  14.00     Mrs\n",
      "10           Sandstrom, Miss. Marguerite Rut  female   4.00    Miss\n",
      "14      Vestrom, Miss. Hulda Amanda Adolfina  female  14.00    Miss\n",
      "16                      Rice, Master. Eugene    male   2.00  Master\n",
      "..                                       ...     ...    ...     ...\n",
      "827                    Mallet, Master. Andre    male   1.00  Master\n",
      "831          Richards, Master. George Sibley    male   0.83  Master\n",
      "850  Andersson, Master. Sigvard Harald Elias    male   4.00  Master\n",
      "852                  Boulos, Miss. Nourelain  female   9.00    Miss\n",
      "869          Johnson, Master. Harold Theodor    male   4.00  Master\n",
      "\n",
      "[78 rows x 4 columns]\n"
     ]
    }
   ],
   "source": [
    "# 이름, 성별, 나이, 호칭만 출력\n",
    "print(children[['Name', 'Sex', 'Age', 'Title']])\n"
   ]
  },
  {
   "cell_type": "code",
   "execution_count": 120,
   "id": "5d0937b6",
   "metadata": {},
   "outputs": [
    {
     "name": "stdout",
     "output_type": "stream",
     "text": [
      "Title\n",
      "Master     4.574167\n",
      "Miss      21.845638\n",
      "Mr        32.368090\n",
      "Mrs       35.788991\n",
      "Rare      45.545455\n",
      "Name: Age, dtype: float64\n"
     ]
    }
   ],
   "source": [
    "# Title별 평균 나이\n",
    "title_age_means = data.groupby('Title')['Age'].mean()\n",
    "print(title_age_means)\n"
   ]
  },
  {
   "cell_type": "code",
   "execution_count": 121,
   "id": "a7d51521",
   "metadata": {},
   "outputs": [],
   "source": [
    "# 평균값으로 Age 결측값 채우기\n",
    "data['Age'] = data.apply(\n",
    "    lambda row: title_age_means[row['Title']] if pd.isnull(row['Age']) else row['Age'],\n",
    "    axis=1\n",
    ")\n"
   ]
  },
  {
   "cell_type": "code",
   "execution_count": 122,
   "id": "e4faabc4",
   "metadata": {},
   "outputs": [
    {
     "name": "stdout",
     "output_type": "stream",
     "text": [
      "남은 Age 결측값 수: 0\n"
     ]
    }
   ],
   "source": [
    "# Age 결측값 확인\n",
    "print(\"남은 Age 결측값 수:\", data['Age'].isnull().sum())\n"
   ]
  },
  {
   "cell_type": "code",
   "execution_count": 123,
   "id": "46e1707e",
   "metadata": {},
   "outputs": [
    {
     "name": "stdout",
     "output_type": "stream",
     "text": [
      "컬럼 목록: ['PassengerId', 'Survived', 'Pclass', 'Name', 'Sex', 'Age', 'SibSp', 'Parch', 'Ticket', 'Fare', 'Cabin', 'Embarked', 'Title']\n"
     ]
    }
   ],
   "source": [
    "print(\"컬럼 목록:\", data.columns.tolist())\n"
   ]
  },
  {
   "cell_type": "code",
   "execution_count": 124,
   "id": "1678b686",
   "metadata": {},
   "outputs": [
    {
     "name": "stdout",
     "output_type": "stream",
     "text": [
      "Title\n",
      "Master     4.574167\n",
      "Miss      21.845638\n",
      "Mr        32.368090\n",
      "Mrs       35.788991\n",
      "Rare      45.545455\n",
      "Name: Age, dtype: float64\n"
     ]
    }
   ],
   "source": [
    "print(data.groupby('Title')['Age'].mean()) # 평균 나이 확인"
   ]
  },
  {
   "cell_type": "markdown",
   "id": "773b0f57",
   "metadata": {},
   "source": [
    "# 주요 변수별 생존률 확인"
   ]
  },
  {
   "cell_type": "code",
   "execution_count": 125,
   "id": "d845bcb4",
   "metadata": {},
   "outputs": [
    {
     "name": "stdout",
     "output_type": "stream",
     "text": [
      "Pclass\n",
      "1    0.629630\n",
      "2    0.472826\n",
      "3    0.242363\n",
      "Name: Survived, dtype: float64\n",
      "Sex\n",
      "female    0.742038\n",
      "male      0.188908\n",
      "Name: Survived, dtype: float64\n",
      "Title\n",
      "Master    0.575000\n",
      "Miss      0.702703\n",
      "Mr        0.156673\n",
      "Mrs       0.793651\n",
      "Rare      0.347826\n",
      "Name: Survived, dtype: float64\n",
      "IsChild\n",
      "False    0.364648\n",
      "True     0.573171\n",
      "Name: Survived, dtype: float64\n"
     ]
    }
   ],
   "source": [
    "# Pclass별 생존률\n",
    "print(data.groupby('Pclass')['Survived'].mean())\n",
    "\n",
    "# Sex별 생존률\n",
    "print(data.groupby('Sex')['Survived'].mean())\n",
    "\n",
    "# Title별 생존률\n",
    "print(data.groupby('Title')['Survived'].mean())\n",
    "\n",
    "# Age 구간별 생존률 (예: 어린이 vs 성인)\n",
    "data['IsChild'] = data['Age'] < 15\n",
    "print(data.groupby('IsChild')['Survived'].mean())\n"
   ]
  },
  {
   "cell_type": "markdown",
   "id": "5cfd2c5e",
   "metadata": {},
   "source": [
    "# train 데이터 준비"
   ]
  },
  {
   "cell_type": "code",
   "execution_count": 126,
   "id": "7837a43f",
   "metadata": {},
   "outputs": [],
   "source": [
    "import xgboost as xgb\n",
    "from sklearn.model_selection import train_test_split\n",
    "from sklearn.metrics import accuracy_score\n",
    "\n",
    "# 1. 결측값 처리\n",
    "data['Embarked'] = data['Embarked'].fillna(data['Embarked'].mode()[0])\n",
    "data['Sex'] = data['Sex'].map({'male': 0, 'female': 1})\n",
    "\n",
    "# Title별 평균 나이 미리 저장 (★중요)\n",
    "title_age_means = data.groupby('Title')['Age'].mean().copy()\n",
    "\n",
    "# 2. 인코딩\n",
    "data = pd.get_dummies(data, columns=['Embarked', 'Title'], drop_first=True)\n",
    "\n",
    "# 다시 train.csv 로드해서 Title별 평균 구하기\n",
    "train_raw = pd.read_csv(\"/home/woo/kuBig2025/ml_dl_python/data/titanic/train.csv\")\n",
    "train_raw['Title'] = train_raw['Name'].str.extract(r' ([A-Za-z]+)\\.', expand=False)\n",
    "train_raw['Title'] = train_raw['Title'].replace(['Mlle', 'Ms'], 'Miss')\n",
    "train_raw['Title'] = train_raw['Title'].replace(['Mme'], 'Mrs')\n",
    "rare_titles = ['Dr', 'Rev', 'Col', 'Major', 'Lady', 'Don', 'Dona', 'Jonkheer', 'Capt', 'Countess', 'Sir']\n",
    "train_raw['Title'] = train_raw['Title'].replace(rare_titles, 'Rare')\n",
    "title_age_means = train_raw.groupby('Title')['Age'].mean()\n",
    "\n",
    "\n",
    "# 3. 피처 및 타겟 분리\n",
    "features = ['Pclass', 'Sex', 'Age', 'SibSp', 'Parch', 'Fare'] + \\\n",
    "           [col for col in data.columns if col.startswith('Embarked_') or col.startswith('Title_')]\n",
    "\n",
    "X = data[features]\n",
    "y = data['Survived']\n",
    "\n",
    "# 4. 데이터 분할\n",
    "X_train, X_test, y_train, y_test = train_test_split(X, y, test_size=0.2, random_state=42)\n"
   ]
  },
  {
   "cell_type": "code",
   "execution_count": 127,
   "id": "7cf958b9",
   "metadata": {},
   "outputs": [
    {
     "name": "stderr",
     "output_type": "stream",
     "text": [
      "/home/woo/.local/lib/python3.10/site-packages/xgboost/training.py:183: UserWarning: [15:13:39] WARNING: /workspace/src/learner.cc:738: \n",
      "Parameters: { \"use_label_encoder\" } are not used.\n",
      "\n",
      "  bst.update(dtrain, iteration=i, fobj=obj)\n"
     ]
    },
    {
     "name": "stdout",
     "output_type": "stream",
     "text": [
      "XGBoost 정확도: 0.8324022346368715\n"
     ]
    }
   ],
   "source": [
    "# 모델 생성\n",
    "model = xgb.XGBClassifier(\n",
    "    n_estimators=100,\n",
    "    max_depth=4,\n",
    "    learning_rate=0.1,\n",
    "    use_label_encoder=False,\n",
    "    eval_metric='logloss',\n",
    "    random_state=42\n",
    ")\n",
    "\n",
    "# 모델 학습\n",
    "model.fit(X_train, y_train)\n",
    "\n",
    "# 예측\n",
    "y_pred = model.predict(X_test)\n",
    "\n",
    "# 정확도 출력\n",
    "from sklearn.metrics import accuracy_score\n",
    "print(\"XGBoost 정확도:\", accuracy_score(y_test, y_pred))\n"
   ]
  },
  {
   "cell_type": "markdown",
   "id": "adef7422",
   "metadata": {},
   "source": [
    "### test 데이터 전처리"
   ]
  },
  {
   "cell_type": "code",
   "execution_count": 131,
   "id": "392470f2",
   "metadata": {},
   "outputs": [
    {
     "name": "stdout",
     "output_type": "stream",
     "text": [
      "🎉 캐글 제출 파일 생성 완료: xgb_submission.csv\n"
     ]
    }
   ],
   "source": [
    "# 1. 테스트 데이터 불러오기\n",
    "test = pd.read_csv(\"/home/woo/kuBig2025/ml_dl_python/data/titanic/test.csv\")\n",
    "\n",
    "# 💡 PassengerId 따로 저장해두기\n",
    "passenger_ids = test['PassengerId'].copy()\n",
    "\n",
    "# 2. Title 컬럼 추출\n",
    "test['Title'] = test['Name'].str.extract(r' ([A-Za-z]+)\\.', expand=False)\n",
    "\n",
    "# 3. Title 정리\n",
    "test['Title'] = test['Title'].replace(['Mlle', 'Ms'], 'Miss')\n",
    "test['Title'] = test['Title'].replace(['Mme'], 'Mrs')\n",
    "rare_titles = ['Dr', 'Rev', 'Col', 'Major', 'Lady', 'Don', 'Dona', 'Jonkheer', 'Capt', 'Countess', 'Sir']\n",
    "test['Title'] = test['Title'].replace(rare_titles, 'Rare')\n",
    "\n",
    "# 4. Age 결측값을 Title별 평균으로 채우기\n",
    "# (train 데이터에서 구한 평균과 동일한 기준을 사용해야 하므로 train 기준 사용!)\n",
    "\n",
    "test['Age'] = test.apply(\n",
    "    lambda row: title_age_means[row['Title']] if pd.isnull(row['Age']) else row['Age'],\n",
    "    axis=1\n",
    ")\n",
    "\n",
    "# 5. Sex를 숫자로 변환\n",
    "test['Sex'] = test['Sex'].map({'male': 0, 'female': 1})\n",
    "\n",
    "# 6. Fare 결측값 처리\n",
    "test['Fare'] = test['Fare'].fillna(test['Fare'].median())\n",
    "\n",
    "# 7. Embarked 결측값은 없지만 혹시 모르니 채움 (보통은 없음)\n",
    "test['Embarked'] = test['Embarked'].fillna('S')\n",
    "\n",
    "# 8. 범주형 변수 one-hot 인코딩\n",
    "test = pd.get_dummies(test, columns=['Embarked', 'Title'], drop_first=True)\n",
    "\n",
    "# 9. train의 feature 목록과 맞추기\n",
    "# 누락된 컬럼이 있다면 추가하고 0으로 채움\n",
    "for col in X.columns:\n",
    "    if col not in test.columns:\n",
    "        test[col] = 0\n",
    "\n",
    "# 그리고 순서도 동일하게 맞추기\n",
    "test = test[X.columns]\n",
    "\n",
    "# 10. 예측\n",
    "pred_test = model.predict(test)\n",
    "\n",
    "# 11. 제출 파일 생성\n",
    "submission = pd.DataFrame({\n",
    "    'PassengerId': passenger_ids,\n",
    "    'Survived': pred_test.astype(int)\n",
    "})\n",
    "\n",
    "\n",
    "# 12. 저장\n",
    "submission.to_csv(\"/home/woo/kuBig2025/ml_dl_python/data/titanic/xgb_submission.csv\", index=False)\n",
    "print(\"🎉 캐글 제출 파일 생성 완료: xgb_submission.csv\")\n"
   ]
  },
  {
   "cell_type": "code",
   "execution_count": null,
   "id": "30d82d98",
   "metadata": {},
   "outputs": [],
   "source": []
  },
  {
   "cell_type": "code",
   "execution_count": null,
   "id": "cb865fd2",
   "metadata": {},
   "outputs": [],
   "source": []
  }
 ],
 "metadata": {
  "kernelspec": {
   "display_name": "Python 3",
   "language": "python",
   "name": "python3"
  },
  "language_info": {
   "codemirror_mode": {
    "name": "ipython",
    "version": 3
   },
   "file_extension": ".py",
   "mimetype": "text/x-python",
   "name": "python",
   "nbconvert_exporter": "python",
   "pygments_lexer": "ipython3",
   "version": "3.10.12"
  }
 },
 "nbformat": 4,
 "nbformat_minor": 5
}
