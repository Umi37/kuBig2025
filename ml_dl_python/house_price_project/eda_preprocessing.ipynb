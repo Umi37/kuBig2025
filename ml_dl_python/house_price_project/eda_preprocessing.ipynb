{
 "cells": [
  {
   "cell_type": "markdown",
   "id": "a2436a1f",
   "metadata": {},
   "source": [
    "# 주택가격 예측 모델"
   ]
  },
  {
   "cell_type": "markdown",
   "id": "9b4d0d63",
   "metadata": {},
   "source": [
    "## 1단계 : 파일 불러와 데이터 확인하기"
   ]
  },
  {
   "cell_type": "code",
   "execution_count": 32,
   "id": "b88735ec",
   "metadata": {},
   "outputs": [
    {
     "name": "stdout",
     "output_type": "stream",
     "text": [
      "<class 'pandas.core.frame.DataFrame'>\n",
      "RangeIndex: 1460 entries, 0 to 1459\n",
      "Data columns (total 81 columns):\n",
      " #   Column         Non-Null Count  Dtype  \n",
      "---  ------         --------------  -----  \n",
      " 0   Id             1460 non-null   int64  \n",
      " 1   MSSubClass     1460 non-null   int64  \n",
      " 2   MSZoning       1460 non-null   object \n",
      " 3   LotFrontage    1201 non-null   float64\n",
      " 4   LotArea        1460 non-null   int64  \n",
      " 5   Street         1460 non-null   object \n",
      " 6   Alley          91 non-null     object \n",
      " 7   LotShape       1460 non-null   object \n",
      " 8   LandContour    1460 non-null   object \n",
      " 9   Utilities      1460 non-null   object \n",
      " 10  LotConfig      1460 non-null   object \n",
      " 11  LandSlope      1460 non-null   object \n",
      " 12  Neighborhood   1460 non-null   object \n",
      " 13  Condition1     1460 non-null   object \n",
      " 14  Condition2     1460 non-null   object \n",
      " 15  BldgType       1460 non-null   object \n",
      " 16  HouseStyle     1460 non-null   object \n",
      " 17  OverallQual    1460 non-null   int64  \n",
      " 18  OverallCond    1460 non-null   int64  \n",
      " 19  YearBuilt      1460 non-null   int64  \n",
      " 20  YearRemodAdd   1460 non-null   int64  \n",
      " 21  RoofStyle      1460 non-null   object \n",
      " 22  RoofMatl       1460 non-null   object \n",
      " 23  Exterior1st    1460 non-null   object \n",
      " 24  Exterior2nd    1460 non-null   object \n",
      " 25  MasVnrType     588 non-null    object \n",
      " 26  MasVnrArea     1452 non-null   float64\n",
      " 27  ExterQual      1460 non-null   object \n",
      " 28  ExterCond      1460 non-null   object \n",
      " 29  Foundation     1460 non-null   object \n",
      " 30  BsmtQual       1423 non-null   object \n",
      " 31  BsmtCond       1423 non-null   object \n",
      " 32  BsmtExposure   1422 non-null   object \n",
      " 33  BsmtFinType1   1423 non-null   object \n",
      " 34  BsmtFinSF1     1460 non-null   int64  \n",
      " 35  BsmtFinType2   1422 non-null   object \n",
      " 36  BsmtFinSF2     1460 non-null   int64  \n",
      " 37  BsmtUnfSF      1460 non-null   int64  \n",
      " 38  TotalBsmtSF    1460 non-null   int64  \n",
      " 39  Heating        1460 non-null   object \n",
      " 40  HeatingQC      1460 non-null   object \n",
      " 41  CentralAir     1460 non-null   object \n",
      " 42  Electrical     1459 non-null   object \n",
      " 43  1stFlrSF       1460 non-null   int64  \n",
      " 44  2ndFlrSF       1460 non-null   int64  \n",
      " 45  LowQualFinSF   1460 non-null   int64  \n",
      " 46  GrLivArea      1460 non-null   int64  \n",
      " 47  BsmtFullBath   1460 non-null   int64  \n",
      " 48  BsmtHalfBath   1460 non-null   int64  \n",
      " 49  FullBath       1460 non-null   int64  \n",
      " 50  HalfBath       1460 non-null   int64  \n",
      " 51  BedroomAbvGr   1460 non-null   int64  \n",
      " 52  KitchenAbvGr   1460 non-null   int64  \n",
      " 53  KitchenQual    1460 non-null   object \n",
      " 54  TotRmsAbvGrd   1460 non-null   int64  \n",
      " 55  Functional     1460 non-null   object \n",
      " 56  Fireplaces     1460 non-null   int64  \n",
      " 57  FireplaceQu    770 non-null    object \n",
      " 58  GarageType     1379 non-null   object \n",
      " 59  GarageYrBlt    1379 non-null   float64\n",
      " 60  GarageFinish   1379 non-null   object \n",
      " 61  GarageCars     1460 non-null   int64  \n",
      " 62  GarageArea     1460 non-null   int64  \n",
      " 63  GarageQual     1379 non-null   object \n",
      " 64  GarageCond     1379 non-null   object \n",
      " 65  PavedDrive     1460 non-null   object \n",
      " 66  WoodDeckSF     1460 non-null   int64  \n",
      " 67  OpenPorchSF    1460 non-null   int64  \n",
      " 68  EnclosedPorch  1460 non-null   int64  \n",
      " 69  3SsnPorch      1460 non-null   int64  \n",
      " 70  ScreenPorch    1460 non-null   int64  \n",
      " 71  PoolArea       1460 non-null   int64  \n",
      " 72  PoolQC         7 non-null      object \n",
      " 73  Fence          281 non-null    object \n",
      " 74  MiscFeature    54 non-null     object \n",
      " 75  MiscVal        1460 non-null   int64  \n",
      " 76  MoSold         1460 non-null   int64  \n",
      " 77  YrSold         1460 non-null   int64  \n",
      " 78  SaleType       1460 non-null   object \n",
      " 79  SaleCondition  1460 non-null   object \n",
      " 80  SalePrice      1460 non-null   int64  \n",
      "dtypes: float64(3), int64(35), object(43)\n",
      "memory usage: 924.0+ KB\n",
      "None\n"
     ]
    }
   ],
   "source": [
    "import pandas as pd\n",
    "\n",
    "data = pd.read_csv(\"/home/woo/kuBig2025/orange33/house-prices-advanced-regression-techniques/train.csv\")\n",
    "print(data.info())"
   ]
  },
  {
   "cell_type": "code",
   "execution_count": 33,
   "id": "33ce5832",
   "metadata": {},
   "outputs": [
    {
     "name": "stdout",
     "output_type": "stream",
     "text": [
      "   Id  MSSubClass MSZoning  LotFrontage  LotArea Street Alley LotShape  \\\n",
      "0   1          60       RL         65.0     8450   Pave   NaN      Reg   \n",
      "1   2          20       RL         80.0     9600   Pave   NaN      Reg   \n",
      "2   3          60       RL         68.0    11250   Pave   NaN      IR1   \n",
      "3   4          70       RL         60.0     9550   Pave   NaN      IR1   \n",
      "4   5          60       RL         84.0    14260   Pave   NaN      IR1   \n",
      "\n",
      "  LandContour Utilities  ... PoolArea PoolQC Fence MiscFeature MiscVal MoSold  \\\n",
      "0         Lvl    AllPub  ...        0    NaN   NaN         NaN       0      2   \n",
      "1         Lvl    AllPub  ...        0    NaN   NaN         NaN       0      5   \n",
      "2         Lvl    AllPub  ...        0    NaN   NaN         NaN       0      9   \n",
      "3         Lvl    AllPub  ...        0    NaN   NaN         NaN       0      2   \n",
      "4         Lvl    AllPub  ...        0    NaN   NaN         NaN       0     12   \n",
      "\n",
      "  YrSold  SaleType  SaleCondition  SalePrice  \n",
      "0   2008        WD         Normal     208500  \n",
      "1   2007        WD         Normal     181500  \n",
      "2   2008        WD         Normal     223500  \n",
      "3   2006        WD        Abnorml     140000  \n",
      "4   2008        WD         Normal     250000  \n",
      "\n",
      "[5 rows x 81 columns]\n"
     ]
    }
   ],
   "source": [
    "print(data.head()) "
   ]
  },
  {
   "cell_type": "code",
   "execution_count": 34,
   "id": "ef43d488",
   "metadata": {},
   "outputs": [
    {
     "name": "stdout",
     "output_type": "stream",
     "text": [
      "Defaulting to user installation because normal site-packages is not writeable\n",
      "Requirement already satisfied: seaborn in /home/woo/.local/lib/python3.10/site-packages (0.13.2)\n",
      "Requirement already satisfied: pandas>=1.2 in /home/woo/.local/lib/python3.10/site-packages (from seaborn) (2.3.0)\n",
      "Requirement already satisfied: matplotlib!=3.6.1,>=3.4 in /home/woo/.local/lib/python3.10/site-packages (from seaborn) (3.10.3)\n",
      "Requirement already satisfied: numpy!=1.24.0,>=1.20 in /home/woo/.local/lib/python3.10/site-packages (from seaborn) (1.26.4)\n",
      "Requirement already satisfied: contourpy>=1.0.1 in /home/woo/.local/lib/python3.10/site-packages (from matplotlib!=3.6.1,>=3.4->seaborn) (1.3.2)\n",
      "Requirement already satisfied: packaging>=20.0 in /home/woo/.local/lib/python3.10/site-packages (from matplotlib!=3.6.1,>=3.4->seaborn) (24.2)\n",
      "Requirement already satisfied: pyparsing>=2.3.1 in /usr/lib/python3/dist-packages (from matplotlib!=3.6.1,>=3.4->seaborn) (2.4.7)\n",
      "Requirement already satisfied: pillow>=8 in /usr/lib/python3/dist-packages (from matplotlib!=3.6.1,>=3.4->seaborn) (9.0.1)\n",
      "Requirement already satisfied: fonttools>=4.22.0 in /home/woo/.local/lib/python3.10/site-packages (from matplotlib!=3.6.1,>=3.4->seaborn) (4.58.0)\n",
      "Requirement already satisfied: python-dateutil>=2.7 in /home/woo/.local/lib/python3.10/site-packages (from matplotlib!=3.6.1,>=3.4->seaborn) (2.9.0.post0)\n",
      "Requirement already satisfied: cycler>=0.10 in /home/woo/.local/lib/python3.10/site-packages (from matplotlib!=3.6.1,>=3.4->seaborn) (0.12.1)\n",
      "Requirement already satisfied: kiwisolver>=1.3.1 in /home/woo/.local/lib/python3.10/site-packages (from matplotlib!=3.6.1,>=3.4->seaborn) (1.4.8)\n",
      "Requirement already satisfied: tzdata>=2022.7 in /home/woo/.local/lib/python3.10/site-packages (from pandas>=1.2->seaborn) (2025.2)\n",
      "Requirement already satisfied: pytz>=2020.1 in /usr/lib/python3/dist-packages (from pandas>=1.2->seaborn) (2022.1)\n",
      "Requirement already satisfied: six>=1.5 in /usr/lib/python3/dist-packages (from python-dateutil>=2.7->matplotlib!=3.6.1,>=3.4->seaborn) (1.16.0)\n"
     ]
    }
   ],
   "source": [
    "!pip install seaborn\n"
   ]
  },
  {
   "cell_type": "markdown",
   "id": "a921a2ec",
   "metadata": {},
   "source": [
    "## 2단계: 수치형 변수와 SalePrice의 상관관계 확인하기"
   ]
  },
  {
   "cell_type": "markdown",
   "id": "20f2780d",
   "metadata": {},
   "source": [
    "### 2-1단계: 상관관계가 높은 변수들만 추출하기"
   ]
  },
  {
   "cell_type": "code",
   "execution_count": 35,
   "id": "c843d7a6",
   "metadata": {},
   "outputs": [
    {
     "name": "stdout",
     "output_type": "stream",
     "text": [
      "SalePrice       1.000000\n",
      "OverallQual     0.790982\n",
      "GrLivArea       0.708624\n",
      "GarageCars      0.640409\n",
      "GarageArea      0.623431\n",
      "TotalBsmtSF     0.613581\n",
      "1stFlrSF        0.605852\n",
      "FullBath        0.560664\n",
      "TotRmsAbvGrd    0.533723\n",
      "YearBuilt       0.522897\n",
      "YearRemodAdd    0.507101\n",
      "Name: SalePrice, dtype: float64\n"
     ]
    }
   ],
   "source": [
    "import pandas as pd\n",
    "import matplotlib.pyplot as plt\n",
    "import seaborn as sns\n",
    "\n",
    "# 데이터 불러오기\n",
    "data = pd.read_csv(\"/home/woo/kuBig2025/orange33/house-prices-advanced-regression-techniques/train.csv\")\n",
    "\n",
    "# 수치형 데이터만 추출\n",
    "numeric_df = data.select_dtypes(include=['int64', 'float64'])\n",
    "\n",
    "# SalePrice와의 상관관계 계산\n",
    "corr_matrix = numeric_df.corr()\n",
    "\n",
    "# 상관계수 높은 순으로 정렬 (절댓값 기준)\n",
    "corr_with_price = corr_matrix['SalePrice'].abs().sort_values(ascending=False)\n",
    "\n",
    "# 상위 10개 출력\n",
    "print(corr_with_price.head(11))  # SalePrice 포함해서 11개\n"
   ]
  },
  {
   "cell_type": "markdown",
   "id": "6a43a1a9",
   "metadata": {},
   "source": [
    "### 2-2단계: 결측치가 있는 데이터 확인하기"
   ]
  },
  {
   "cell_type": "code",
   "execution_count": 36,
   "id": "5aa69019",
   "metadata": {},
   "outputs": [
    {
     "name": "stdout",
     "output_type": "stream",
     "text": [
      "Series([], dtype: int64)\n"
     ]
    }
   ],
   "source": [
    "# 관심 변수 리스트\n",
    "important_cols = [\n",
    "    'SalePrice', 'OverallQual', 'GrLivArea', 'GarageCars', 'GarageArea',\n",
    "    'TotalBsmtSF', '1stFlrSF', 'FullBath', 'TotRmsAbvGrd', 'YearBuilt', 'YearRemodAdd'\n",
    "]\n",
    "\n",
    "# 각 변수별 결측값 개수 확인\n",
    "missing_counts = data[important_cols].isnull().sum()\n",
    "\n",
    "# 결측값이 있는 변수만 출력\n",
    "print(missing_counts[missing_counts > 0])\n"
   ]
  },
  {
   "cell_type": "code",
   "execution_count": 37,
   "id": "a812f8b3",
   "metadata": {},
   "outputs": [
    {
     "name": "stdout",
     "output_type": "stream",
     "text": [
      "SalePrice       0\n",
      "OverallQual     0\n",
      "GrLivArea       0\n",
      "GarageCars      0\n",
      "GarageArea      0\n",
      "TotalBsmtSF     0\n",
      "1stFlrSF        0\n",
      "FullBath        0\n",
      "TotRmsAbvGrd    0\n",
      "YearBuilt       0\n",
      "YearRemodAdd    0\n",
      "dtype: int64\n"
     ]
    }
   ],
   "source": [
    "# 관심 있는 주요 변수 목록\n",
    "important_cols = [\n",
    "    'SalePrice', 'OverallQual', 'GrLivArea', 'GarageCars', 'GarageArea',\n",
    "    'TotalBsmtSF', '1stFlrSF', 'FullBath', 'TotRmsAbvGrd', 'YearBuilt', 'YearRemodAdd'\n",
    "]\n",
    "\n",
    "# 각 컬럼별 결측치 개수 확인 (조건 없이 전부 출력)\n",
    "missing_counts = data[important_cols].isnull().sum()\n",
    "\n",
    "# 보기 좋게 출력\n",
    "print(missing_counts)\n"
   ]
  },
  {
   "cell_type": "code",
   "execution_count": 43,
   "id": "ba9d9f8e",
   "metadata": {},
   "outputs": [
    {
     "name": "stdout",
     "output_type": "stream",
     "text": [
      "전체 컬럼 수: 82\n",
      "결측치 있는 컬럼 수: 19\n",
      "\n",
      "              Missing Count  Missing Ratio (%)\n",
      "PoolQC                 1453          99.520548\n",
      "MiscFeature            1406          96.301370\n",
      "Alley                  1369          93.767123\n",
      "Fence                  1179          80.753425\n",
      "MasVnrType              872          59.726027\n",
      "FireplaceQu             690          47.260274\n",
      "LotFrontage             259          17.739726\n",
      "GarageType               81           5.547945\n",
      "GarageYrBlt              81           5.547945\n",
      "GarageFinish             81           5.547945\n",
      "GarageQual               81           5.547945\n",
      "GarageCond               81           5.547945\n",
      "BsmtFinType2             38           2.602740\n",
      "BsmtExposure             38           2.602740\n",
      "BsmtFinType1             37           2.534247\n",
      "BsmtCond                 37           2.534247\n",
      "BsmtQual                 37           2.534247\n",
      "MasVnrArea                8           0.547945\n",
      "Electrical                1           0.068493\n"
     ]
    }
   ],
   "source": [
    "# 결측치 비율까지 보기 (%)\n",
    "missing_ratio = (data.isnull().sum() / len(data)) * 100\n",
    "missing_df = pd.DataFrame({\n",
    "    'Missing Count': data.isnull().sum(),\n",
    "    'Missing Ratio (%)': missing_ratio\n",
    "})\n",
    "missing_df = missing_df[missing_df['Missing Count'] > 0].sort_values(by='Missing Ratio (%)', ascending=False)\n",
    "\n",
    "# 결측치 개수 확인\n",
    "print(f\"전체 컬럼 수: {data.shape[1]}\")\n",
    "print(f\"결측치 있는 컬럼 수: {missing_df.shape[0]}\\n\")\n",
    "\n",
    "print(missing_df)\n",
    "\n"
   ]
  },
  {
   "cell_type": "code",
   "execution_count": 39,
   "id": "ce7ef470",
   "metadata": {},
   "outputs": [
    {
     "name": "stdout",
     "output_type": "stream",
     "text": [
      "SalePrice      1.000000\n",
      "GarageYrBlt    0.486362\n",
      "MasVnrArea     0.477493\n",
      "LotFrontage    0.351799\n",
      "Name: SalePrice, dtype: float64\n"
     ]
    }
   ],
   "source": [
    "import pandas as pd\n",
    "\n",
    "# 데이터 불러오기\n",
    "data = pd.read_csv(\"/home/woo/kuBig2025/orange33/house-prices-advanced-regression-techniques/train.csv\")\n",
    "\n",
    "# 결측치 있는 컬럼 리스트\n",
    "missing_cols = [\n",
    "    'PoolQC', 'MiscFeature', 'Alley', 'Fence', 'MasVnrType',\n",
    "    'FireplaceQu', 'LotFrontage', 'GarageType', 'GarageYrBlt',\n",
    "    'GarageFinish', 'GarageQual', 'GarageCond', 'BsmtFinType2',\n",
    "    'BsmtExposure', 'BsmtFinType1', 'BsmtCond', 'BsmtQual',\n",
    "    'MasVnrArea', 'Electrical'\n",
    "]\n",
    "\n",
    "# SalePrice 포함해서 추출\n",
    "subset = data[missing_cols + ['SalePrice']].copy()  # 복사본 명시적으로 생성\n",
    "\n",
    "# object 타입 컬럼 인코딩\n",
    "for col in subset.select_dtypes(include='object').columns:\n",
    "    subset.loc[:, col] = pd.factorize(subset[col])[0]  # 경고 없이 안전하게 처리\n",
    "\n",
    "# 상관계수 계산\n",
    "correlations = subset.corr(numeric_only=True)['SalePrice'].sort_values(key=abs, ascending=False)\n",
    "\n",
    "# 출력\n",
    "print(correlations)\n"
   ]
  },
  {
   "cell_type": "markdown",
   "id": "03e364c1",
   "metadata": {},
   "source": [
    "#### 2-2-1단계: 수영장 품질(PoolQC) 변수 확인하여, 가장 높은 품질이 측정된 샘플의 주택가격이 전체 데이터에서 상위 몇%에 해당하는지 확인하기"
   ]
  },
  {
   "cell_type": "code",
   "execution_count": 40,
   "id": "472dd4d3",
   "metadata": {},
   "outputs": [
    {
     "name": "stdout",
     "output_type": "stream",
     "text": [
      "[nan 'Ex' 'Fa' 'Gd']\n"
     ]
    }
   ],
   "source": [
    "print(data['PoolQC'].unique())\n"
   ]
  },
  {
   "cell_type": "code",
   "execution_count": 41,
   "id": "c9db61da",
   "metadata": {},
   "outputs": [
    {
     "name": "stdout",
     "output_type": "stream",
     "text": [
      "PoolQC\n",
      "NaN    1453\n",
      "Gd        3\n",
      "Ex        2\n",
      "Fa        2\n",
      "Name: count, dtype: int64\n"
     ]
    }
   ],
   "source": [
    "print(data['PoolQC'].value_counts(dropna=False))\n"
   ]
  },
  {
   "cell_type": "code",
   "execution_count": 42,
   "id": "ebec67ad",
   "metadata": {},
   "outputs": [
    {
     "name": "stdout",
     "output_type": "stream",
     "text": [
      "        Id  SalePrice  Percentile\n",
      "1182  1183     745000    0.136986\n",
      "197    198     235000   18.561644\n"
     ]
    }
   ],
   "source": [
    "import pandas as pd\n",
    "\n",
    "# 데이터 불러오기\n",
    "data = pd.read_csv(\"/home/woo/kuBig2025/orange33/house-prices-advanced-regression-techniques/train.csv\")\n",
    "\n",
    "# 전체 순위 계산 (높은 가격일수록 상위)\n",
    "data['Percentile'] = data['SalePrice'].rank(method='min', ascending=False) / len(data) * 100\n",
    "\n",
    "# PoolQC == 'Ex'인 행만 추출\n",
    "ex_pools = data[data['PoolQC'] == 'Ex'][['Id', 'SalePrice', 'Percentile']].sort_values(by='SalePrice', ascending=False)\n",
    "\n",
    "# 결과 확인\n",
    "print(ex_pools)\n"
   ]
  },
  {
   "cell_type": "markdown",
   "id": "f434e662",
   "metadata": {},
   "source": [
    "### 2-3단계 : 결측치가 높은 변수 제거하기"
   ]
  },
  {
   "cell_type": "code",
   "execution_count": 46,
   "id": "33cfc845",
   "metadata": {},
   "outputs": [],
   "source": [
    "# 데이터 복사본 생성\n",
    "data_raw = data.copy()\n",
    "\n",
    "import matplotlib.pyplot as plt\n",
    "\n",
    "# 결측치가 50% 이상인 컬럼 자동 삭제\n",
    "threshold = 0.5\n",
    "missing_ratio = data.isnull().mean()\n",
    "cols_to_drop = missing_ratio[missing_ratio > threshold].index\n",
    "data_cleaned = data.drop(columns=cols_to_drop)\n"
   ]
  },
  {
   "cell_type": "code",
   "execution_count": 48,
   "id": "44730b78",
   "metadata": {},
   "outputs": [
    {
     "data": {
      "text/plain": [
       "object     38\n",
       "int64      35\n",
       "float64     4\n",
       "Name: count, dtype: int64"
      ]
     },
     "execution_count": 48,
     "metadata": {},
     "output_type": "execute_result"
    }
   ],
   "source": [
    "data_cleaned.dtypes.value_counts()\n"
   ]
  },
  {
   "cell_type": "code",
   "execution_count": 50,
   "id": "1d8631a6",
   "metadata": {},
   "outputs": [
    {
     "name": "stdout",
     "output_type": "stream",
     "text": [
      "Index(['MSZoning', 'Street', 'LotShape', 'LandContour', 'Utilities',\n",
      "       'LotConfig', 'LandSlope', 'Neighborhood', 'Condition1', 'Condition2',\n",
      "       'BldgType', 'HouseStyle', 'RoofStyle', 'RoofMatl', 'Exterior1st',\n",
      "       'Exterior2nd', 'ExterQual', 'ExterCond', 'Foundation', 'BsmtQual',\n",
      "       'BsmtCond', 'BsmtExposure', 'BsmtFinType1', 'BsmtFinType2', 'Heating',\n",
      "       'HeatingQC', 'CentralAir', 'Electrical', 'KitchenQual', 'Functional',\n",
      "       'FireplaceQu', 'GarageType', 'GarageFinish', 'GarageQual', 'GarageCond',\n",
      "       'PavedDrive', 'SaleType', 'SaleCondition'],\n",
      "      dtype='object')\n"
     ]
    }
   ],
   "source": [
    "obj_cols = data_cleaned.select_dtypes(include='object').columns\n",
    "print(obj_cols)\n"
   ]
  },
  {
   "cell_type": "code",
   "execution_count": 52,
   "id": "ad51dcb9",
   "metadata": {},
   "outputs": [
    {
     "name": "stdout",
     "output_type": "stream",
     "text": [
      "\n",
      "📌 MSZoning\n",
      "['RL' 'RM' 'C (all)' 'FV' 'RH']\n",
      "\n",
      "📌 Street\n",
      "['Pave' 'Grvl']\n",
      "\n",
      "📌 LotShape\n",
      "['Reg' 'IR1' 'IR2' 'IR3']\n",
      "\n",
      "📌 LandContour\n",
      "['Lvl' 'Bnk' 'Low' 'HLS']\n",
      "\n",
      "📌 Utilities\n",
      "['AllPub' 'NoSeWa']\n",
      "\n",
      "📌 LotConfig\n",
      "['Inside' 'FR2' 'Corner' 'CulDSac' 'FR3']\n",
      "\n",
      "📌 LandSlope\n",
      "['Gtl' 'Mod' 'Sev']\n",
      "\n",
      "📌 Neighborhood\n",
      "['CollgCr' 'Veenker' 'Crawfor' 'NoRidge' 'Mitchel' 'Somerst' 'NWAmes'\n",
      " 'OldTown' 'BrkSide' 'Sawyer']\n",
      "\n",
      "📌 Condition1\n",
      "['Norm' 'Feedr' 'PosN' 'Artery' 'RRAe' 'RRNn' 'RRAn' 'PosA' 'RRNe']\n",
      "\n",
      "📌 Condition2\n",
      "['Norm' 'Artery' 'RRNn' 'Feedr' 'PosN' 'PosA' 'RRAn' 'RRAe']\n",
      "\n",
      "📌 BldgType\n",
      "['1Fam' '2fmCon' 'Duplex' 'TwnhsE' 'Twnhs']\n",
      "\n",
      "📌 HouseStyle\n",
      "['2Story' '1Story' '1.5Fin' '1.5Unf' 'SFoyer' 'SLvl' '2.5Unf' '2.5Fin']\n",
      "\n",
      "📌 RoofStyle\n",
      "['Gable' 'Hip' 'Gambrel' 'Mansard' 'Flat' 'Shed']\n",
      "\n",
      "📌 RoofMatl\n",
      "['CompShg' 'WdShngl' 'Metal' 'WdShake' 'Membran' 'Tar&Grv' 'Roll'\n",
      " 'ClyTile']\n",
      "\n",
      "📌 Exterior1st\n",
      "['VinylSd' 'MetalSd' 'Wd Sdng' 'HdBoard' 'BrkFace' 'WdShing' 'CemntBd'\n",
      " 'Plywood' 'AsbShng' 'Stucco']\n",
      "\n",
      "📌 Exterior2nd\n",
      "['VinylSd' 'MetalSd' 'Wd Shng' 'HdBoard' 'Plywood' 'Wd Sdng' 'CmentBd'\n",
      " 'BrkFace' 'Stucco' 'AsbShng']\n",
      "\n",
      "📌 ExterQual\n",
      "['Gd' 'TA' 'Ex' 'Fa']\n",
      "\n",
      "📌 ExterCond\n",
      "['TA' 'Gd' 'Fa' 'Po' 'Ex']\n",
      "\n",
      "📌 Foundation\n",
      "['PConc' 'CBlock' 'BrkTil' 'Wood' 'Slab' 'Stone']\n",
      "\n",
      "📌 BsmtQual\n",
      "['Gd' 'TA' 'Ex' nan 'Fa']\n",
      "\n",
      "📌 BsmtCond\n",
      "['TA' 'Gd' nan 'Fa' 'Po']\n",
      "\n",
      "📌 BsmtExposure\n",
      "['No' 'Gd' 'Mn' 'Av' nan]\n",
      "\n",
      "📌 BsmtFinType1\n",
      "['GLQ' 'ALQ' 'Unf' 'Rec' 'BLQ' nan 'LwQ']\n",
      "\n",
      "📌 BsmtFinType2\n",
      "['Unf' 'BLQ' nan 'ALQ' 'Rec' 'LwQ' 'GLQ']\n",
      "\n",
      "📌 Heating\n",
      "['GasA' 'GasW' 'Grav' 'Wall' 'OthW' 'Floor']\n",
      "\n",
      "📌 HeatingQC\n",
      "['Ex' 'Gd' 'TA' 'Fa' 'Po']\n",
      "\n",
      "📌 CentralAir\n",
      "['Y' 'N']\n",
      "\n",
      "📌 Electrical\n",
      "['SBrkr' 'FuseF' 'FuseA' 'FuseP' 'Mix' nan]\n",
      "\n",
      "📌 KitchenQual\n",
      "['Gd' 'TA' 'Ex' 'Fa']\n",
      "\n",
      "📌 Functional\n",
      "['Typ' 'Min1' 'Maj1' 'Min2' 'Mod' 'Maj2' 'Sev']\n",
      "\n",
      "📌 FireplaceQu\n",
      "[nan 'TA' 'Gd' 'Fa' 'Ex' 'Po']\n",
      "\n",
      "📌 GarageType\n",
      "['Attchd' 'Detchd' 'BuiltIn' 'CarPort' nan 'Basment' '2Types']\n",
      "\n",
      "📌 GarageFinish\n",
      "['RFn' 'Unf' 'Fin' nan]\n",
      "\n",
      "📌 GarageQual\n",
      "['TA' 'Fa' 'Gd' nan 'Ex' 'Po']\n",
      "\n",
      "📌 GarageCond\n",
      "['TA' 'Fa' nan 'Gd' 'Po' 'Ex']\n",
      "\n",
      "📌 PavedDrive\n",
      "['Y' 'N' 'P']\n",
      "\n",
      "📌 SaleType\n",
      "['WD' 'New' 'COD' 'ConLD' 'ConLI' 'CWD' 'ConLw' 'Con' 'Oth']\n",
      "\n",
      "📌 SaleCondition\n",
      "['Normal' 'Abnorml' 'Partial' 'AdjLand' 'Alloca' 'Family']\n"
     ]
    }
   ],
   "source": [
    "for col in obj_cols:\n",
    "    print(f\"\\n📌 {col}\")\n",
    "    print(data_cleaned[col].unique()[:10])  # 상위 10개만 보기\n"
   ]
  },
  {
   "cell_type": "markdown",
   "id": "3b73753a",
   "metadata": {},
   "source": [
    "### 각각의 범주형 변수의 고유값 확인하기"
   ]
  },
  {
   "cell_type": "code",
   "execution_count": 60,
   "id": "6d9f9658",
   "metadata": {},
   "outputs": [
    {
     "name": "stdout",
     "output_type": "stream",
     "text": [
      "              count           mean            std      min       25%  \\\n",
      "LandContour                                                            \n",
      "Bnk            63.0  143104.079365   49361.244074  52500.0  113000.0   \n",
      "HLS            50.0  231533.940000  101790.139741  82500.0  151750.0   \n",
      "Low            36.0  203661.111111   83935.353620  39300.0  143000.0   \n",
      "Lvl          1311.0  180183.746758   78463.567918  34900.0  130000.0   \n",
      "\n",
      "                  50%        75%       max  \n",
      "LandContour                                 \n",
      "Bnk          139400.0  171250.00  315000.0  \n",
      "HLS          222250.0  281347.25  538000.0  \n",
      "Low          190000.0  263750.00  385000.0  \n",
      "Lvl          162900.0  212000.00  755000.0  \n"
     ]
    }
   ],
   "source": [
    "# LandContour 별로 SalePrice 통계 요약\n",
    "land_stats = data.groupby(\"LandContour\")[\"SalePrice\"].describe()\n",
    "print(land_stats)\n"
   ]
  },
  {
   "cell_type": "code",
   "execution_count": 62,
   "id": "97073901",
   "metadata": {},
   "outputs": [
    {
     "name": "stdout",
     "output_type": "stream",
     "text": [
      "Utilities\n",
      "AllPub    79461.599814\n",
      "NoSeWa             NaN\n",
      "Name: SalePrice, dtype: float64\n"
     ]
    }
   ],
   "source": [
    "# Utilities 고유값별 SalePrice의 표준편차만 출력\n",
    "std_by_utilities = data.groupby(\"Utilities\")[\"SalePrice\"].std()\n",
    "print(std_by_utilities)\n"
   ]
  },
  {
   "cell_type": "code",
   "execution_count": 63,
   "id": "9fb0f4a9",
   "metadata": {},
   "outputs": [
    {
     "name": "stdout",
     "output_type": "stream",
     "text": [
      "          count           mean           std\n",
      "MSZoning                                    \n",
      "FV           65  214014.061538  52369.662067\n",
      "RL         1151  191004.994787  80766.341319\n",
      "RH           16  131558.375000  35714.118435\n",
      "RM          218  126316.830275  48521.689833\n",
      "C (all)      10   74528.000000  33791.092031\n"
     ]
    }
   ],
   "source": [
    "# MSZoning별 SalePrice 통계 요약 (count, mean, std)\n",
    "zoning_stats = data.groupby(\"MSZoning\")[\"SalePrice\"].agg(['count', 'mean', 'std']).sort_values(by='mean', ascending=False)\n",
    "print(zoning_stats)\n"
   ]
  }
 ],
 "metadata": {
  "kernelspec": {
   "display_name": "Python 3",
   "language": "python",
   "name": "python3"
  },
  "language_info": {
   "codemirror_mode": {
    "name": "ipython",
    "version": 3
   },
   "file_extension": ".py",
   "mimetype": "text/x-python",
   "name": "python",
   "nbconvert_exporter": "python",
   "pygments_lexer": "ipython3",
   "version": "3.10.12"
  }
 },
 "nbformat": 4,
 "nbformat_minor": 5
}
