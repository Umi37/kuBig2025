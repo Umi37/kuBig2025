{
 "cells": [
  {
   "cell_type": "code",
   "execution_count": 2,
   "id": "fc5d4a2e",
   "metadata": {},
   "outputs": [
    {
     "name": "stdout",
     "output_type": "stream",
     "text": [
      "[100 101 102 103 104]\n",
      "0    100\n",
      "1    101\n",
      "2    102\n",
      "3    103\n",
      "4    104\n",
      "dtype: int64\n",
      "0    100\n",
      "1    101\n",
      "2    102\n",
      "3    103\n",
      "4    104\n",
      "dtype: int32\n",
      "0    부장\n",
      "1    과장\n",
      "2    대리\n",
      "3    사원\n",
      "4    인턴\n",
      "dtype: object\n"
     ]
    }
   ],
   "source": [
    "import numpy as np\n",
    "import pandas as pd\n",
    "\n",
    "arr = np.arange(100, 105)\n",
    "print(arr)\n",
    "s1 = pd.Series(arr) # Series 는 Pandas 의 1차원 배열\n",
    "s2 = pd.Series(arr, dtype='int32') # dtype 을 지정할 수 있다.\n",
    "s3 = pd.Series([\"부장\", \"과장\", \"대리\", \"사원\", \"인턴\"]) # 문자열로 구성된 Series\n",
    "print(s1, s2, s3, sep=\"\\n\")"
   ]
  },
  {
   "cell_type": "code",
   "execution_count": 8,
   "id": "b23d4fff",
   "metadata": {},
   "outputs": [
    {
     "name": "stdout",
     "output_type": "stream",
     "text": [
      "부장\n",
      "1    과장\n",
      "2    대리\n",
      "dtype: object\n",
      "1    과장\n",
      "2    대리\n",
      "3    사원\n",
      "4    인턴\n",
      "dtype: object\n",
      "0    부장\n",
      "1    과장\n",
      "2    대리\n",
      "dtype: object\n",
      "1    101\n",
      "2    102\n",
      "3    103\n",
      "dtype: int32\n",
      "1    과장\n",
      "3    사원\n",
      "dtype: object\n"
     ]
    }
   ],
   "source": [
    "print(s3[0]) # Series 의 첫번째 원소를 출력\n",
    "print(s3[1:3]) # Series 의 1번부터 2번까지의 원소를 출력\n",
    "print(s3[1:]) # Series 의 1번부터 끝까지의 원소를 출력\n",
    "print(s3[:3]) # Series 의 처음부터 2번까지의 원소를 출력\n",
    "print(s2[[1, 2, 3]]) # Series 의 1번과 3번 원소를 출력 # fancy indexing\n",
    "print(s3[np.arange(1, 4, 2)]) # bool indexing"
   ]
  },
  {
   "cell_type": "code",
   "execution_count": 10,
   "id": "a1a09703",
   "metadata": {},
   "outputs": [
    {
     "name": "stdout",
     "output_type": "stream",
     "text": [
      "a    마케팅\n",
      "b     영업\n",
      "c     개발\n",
      "d    디자인\n",
      "e     인사\n",
      "dtype: object\n"
     ]
    }
   ],
   "source": [
    "s = pd.Series(['마케팅', '영업', '개발', '디자인', '인사'], index = ['a', 'b', 'c', 'd', 'e'])\n",
    "print(s)"
   ]
  },
  {
   "cell_type": "code",
   "execution_count": 12,
   "id": "e553c437",
   "metadata": {},
   "outputs": [
    {
     "name": "stdout",
     "output_type": "stream",
     "text": [
      "마케팅\n"
     ]
    },
    {
     "name": "stderr",
     "output_type": "stream",
     "text": [
      "/tmp/ipykernel_193971/287792665.py:1: FutureWarning: Series.__getitem__ treating keys as positions is deprecated. In a future version, integer keys will always be treated as labels (consistent with DataFrame behavior). To access a value by position, use `ser.iloc[pos]`\n",
      "  print(s[0])\n"
     ]
    }
   ],
   "source": [
    "print(s[0])"
   ]
  },
  {
   "cell_type": "code",
   "execution_count": 14,
   "id": "62b69517",
   "metadata": {},
   "outputs": [
    {
     "name": "stdout",
     "output_type": "stream",
     "text": [
      "마케팅\n"
     ]
    }
   ],
   "source": [
    "print(s[\"a\"]) # 인덱스를 임의적으로 지정할 수 있고 접근 가능"
   ]
  },
  {
   "cell_type": "code",
   "execution_count": 16,
   "id": "a50a6222",
   "metadata": {},
   "outputs": [
    {
     "name": "stdout",
     "output_type": "stream",
     "text": [
      "['마케팅' '영업' '개발' '디자인' '인사']\n",
      "1\n",
      "(5,)\n"
     ]
    }
   ],
   "source": [
    "print(s.values) # Series 의 값만 출력\n",
    "print(s.ndim) # Series 의 차원 출력\n",
    "print(s.shape) # Series 의 shape 출력"
   ]
  },
  {
   "cell_type": "code",
   "execution_count": 18,
   "id": "dda61d0c",
   "metadata": {},
   "outputs": [],
   "source": [
    "s2 = pd.Series(['Amy', 'Bob', np.nan, 'David', 'Eve'])"
   ]
  },
  {
   "cell_type": "code",
   "execution_count": 21,
   "id": "d7a48109",
   "metadata": {},
   "outputs": [
    {
     "name": "stdout",
     "output_type": "stream",
     "text": [
      "0    False\n",
      "1    False\n",
      "2     True\n",
      "3    False\n",
      "4    False\n",
      "dtype: bool\n",
      "0     True\n",
      "1     True\n",
      "2    False\n",
      "3     True\n",
      "4     True\n",
      "dtype: bool\n",
      "0    False\n",
      "1    False\n",
      "2     True\n",
      "3    False\n",
      "4    False\n",
      "dtype: bool\n",
      "0     True\n",
      "1     True\n",
      "2    False\n",
      "3     True\n",
      "4     True\n",
      "dtype: bool\n",
      "0      Amy\n",
      "1      Bob\n",
      "3    David\n",
      "4      Eve\n",
      "dtype: object\n"
     ]
    }
   ],
   "source": [
    "print(s2.isnull()) # 결측치 여부를 확인\n",
    "print(s2.notnull()) # 결측치가 아닌 여부를 확인\n",
    "print(s2.isna()) # 결측치 여부를 확인 (isnull()과 동일)\n",
    "print(s2.notna()) # 결측치가 아닌 여부를 확인 (notnull()과 동일)\n",
    "print(s2[s2.notnull()]) # 결측치가 아닌 값만 출력"
   ]
  },
  {
   "cell_type": "code",
   "execution_count": 24,
   "id": "e5d77530",
   "metadata": {},
   "outputs": [
    {
     "name": "stdout",
     "output_type": "stream",
     "text": [
      "1     192\n",
      "3     171\n",
      "4     160\n",
      "6     182\n",
      "7     186\n",
      "8     174\n",
      "9     174\n",
      "10    187\n",
      "11    199\n",
      "17    187\n",
      "21    163\n",
      "25    175\n",
      "28    188\n",
      "30    190\n",
      "33    191\n",
      "35    179\n",
      "37    161\n",
      "38    161\n",
      "40    161\n",
      "43    163\n",
      "48    172\n",
      "dtype: int64\n"
     ]
    }
   ],
   "source": [
    "# 50개의 랜덤 (100 ~ 200) 생성 후 160 이상만 출력\n",
    "np.random.seed(42)  # 랜덤 시드 설정\n",
    "sample = pd.Series(np.random.randint(100, 200, size=(50, )))\n",
    "print(sample[sample >= 160])  # 160 이상인 값만 출력"
   ]
  },
  {
   "cell_type": "code",
   "execution_count": 30,
   "id": "ec8f4974",
   "metadata": {},
   "outputs": [
    {
     "name": "stdout",
     "output_type": "stream",
     "text": [
      "   A  B  C\n",
      "a  1  2  3\n",
      "b  4  5  6\n",
      "c  7  8  9\n"
     ]
    }
   ],
   "source": [
    "df = pd.DataFrame([[1, 2, 3], [4, 5, 6], [7, 8, 9]], columns=['A', 'B', 'C'], index=['a', 'b', 'c'])\n",
    "print(df)"
   ]
  },
  {
   "cell_type": "code",
   "execution_count": 35,
   "id": "9e38a060",
   "metadata": {},
   "outputs": [
    {
     "name": "stdout",
     "output_type": "stream",
     "text": [
      "    0   1   2   3   4   5   6   7   8   9\n",
      "0   0   1   2   3   4   5   6   7   8   9\n",
      "1  10  11  12  13  14  15  16  17  18  19\n",
      "2  20  21  22  23  24  25  26  27  28  29\n",
      "3  30  31  32  33  34  35  36  37  38  39\n",
      "4  40  41  42  43  44  45  46  47  48  49\n",
      "5  50  51  52  53  54  55  56  57  58  59\n"
     ]
    }
   ],
   "source": [
    "df = pd.DataFrame(np.arange(60).reshape(6, 10))\n",
    "print(df)"
   ]
  },
  {
   "cell_type": "code",
   "execution_count": 39,
   "id": "0f407dd1",
   "metadata": {},
   "outputs": [
    {
     "name": "stdout",
     "output_type": "stream",
     "text": [
      "      name  age         city\n",
      "0    Alice   25     New York\n",
      "1      Bob   30  Los Angeles\n",
      "2  Charlie   35      Chicago\n"
     ]
    }
   ],
   "source": [
    "df = pd.DataFrame({'name': ['Alice', 'Bob', 'Charlie'],\n",
    "                   'age': [25, 30, 35],\n",
    "                   'city': ['New York', 'Los Angeles', 'Chicago']})\n",
    "print(df)"
   ]
  },
  {
   "cell_type": "code",
   "execution_count": 46,
   "id": "041efc7b",
   "metadata": {},
   "outputs": [
    {
     "name": "stdout",
     "output_type": "stream",
     "text": [
      "  Species  Weight  Length  Diagonal   Height   Width\n",
      "0   Bream   242.0    25.4      30.0  11.5200  4.0200\n",
      "1   Bream   290.0    26.3      31.2  12.4800  4.3056\n",
      "2   Bream   340.0    26.5      31.1  12.3778  4.6961\n",
      "3   Bream   363.0    29.0      33.5  12.7300  4.4555\n",
      "4   Bream   430.0    29.0      34.0  12.4440  5.1340 \n",
      "\n",
      "    Species  Weight  Length  Diagonal  Height   Width\n",
      "154   Smelt    12.2    12.2      13.4  2.0904  1.3936\n",
      "155   Smelt    13.4    12.4      13.5  2.4300  1.2690\n",
      "156   Smelt    12.2    13.0      13.8  2.2770  1.2558\n",
      "157   Smelt    19.7    14.3      15.2  2.8728  2.0672\n",
      "158   Smelt    19.9    15.0      16.2  2.9322  1.8792 \n",
      "\n",
      "(159, 6) \n",
      "\n",
      "Index(['Species', 'Weight', 'Length', 'Diagonal', 'Height', 'Width'], dtype='object') \n",
      "\n",
      "<class 'pandas.core.frame.DataFrame'>\n",
      "RangeIndex: 159 entries, 0 to 158\n",
      "Data columns (total 6 columns):\n",
      " #   Column    Non-Null Count  Dtype  \n",
      "---  ------    --------------  -----  \n",
      " 0   Species   159 non-null    object \n",
      " 1   Weight    159 non-null    float64\n",
      " 2   Length    159 non-null    float64\n",
      " 3   Diagonal  159 non-null    float64\n",
      " 4   Height    159 non-null    float64\n",
      " 5   Width     159 non-null    float64\n",
      "dtypes: float64(5), object(1)\n",
      "memory usage: 7.6+ KB\n",
      "None \n",
      "\n"
     ]
    }
   ],
   "source": [
    "df = pd.read_csv(\"/home/woo/kuBig2025/ml_dl_python/data/fish_csv_data.csv\")\n",
    "print(df.head(),\"\\n\")  # 데이터프레임의 처음 5개 행을 출력\n",
    "print(df.tail(),\"\\n\")  # 데이터프레임의 마지막 5개 행을 출력\n",
    "print(df.shape,\"\\n\")  # 데이터프레임의 행과 열의 개수를 출력\n",
    "print(df.columns,\"\\n\")  # 데이터프레임의 열 이름을 출력\n",
    "print(df.info(),\"\\n\")  # 데이터프레임의 정보 출력"
   ]
  },
  {
   "cell_type": "code",
   "execution_count": 49,
   "id": "5d7dd0ca",
   "metadata": {},
   "outputs": [
    {
     "name": "stdout",
     "output_type": "stream",
     "text": [
      "Defaulting to user installation because normal site-packages is not writeable\n",
      "Requirement already satisfied: openpyxl in /home/woo/.local/lib/python3.10/site-packages (3.1.5)\n",
      "Requirement already satisfied: et-xmlfile in /home/woo/.local/lib/python3.10/site-packages (from openpyxl) (2.0.0)\n"
     ]
    }
   ],
   "source": [
    "!pip install openpyxl\n",
    "# 엑셀파일을 읽을 수 있도록 openpyxl 설치\n",
    "\n"
   ]
  },
  {
   "cell_type": "code",
   "execution_count": 51,
   "id": "2f74b76e",
   "metadata": {},
   "outputs": [
    {
     "name": "stdout",
     "output_type": "stream",
     "text": [
      "<class 'pandas.core.frame.DataFrame'>\n",
      "RangeIndex: 13 entries, 0 to 12\n",
      "Data columns (total 19 columns):\n",
      " #   Column                                                                                                                                                                                                                                                                                                                                                                                  Non-Null Count  Dtype         \n",
      "---  ------                                                                                                                                                                                                                                                                                                                                                                                  --------------  -----         \n",
      " 0   타임스탬프                                                                                                                                                                                                                                                                                                                                                                                   13 non-null     datetime64[ns]\n",
      " 1   이메일 주소                                                                                                                                                                                                                                                                                                                                                                                  13 non-null     object        \n",
      " 2   Unnamed: 2                                                                                                                                                                                                                                                                                                                                                                              0 non-null      float64       \n",
      " 3   이름                                                                                                                                                                                                                                                                                                                                                                                      13 non-null     object        \n",
      " 4   1.파이썬이 인터프리터 언어로서 가지는 주요 특징은 무엇인가요?                                                                                                                                                                                                                                                                                                                                                     13 non-null     object        \n",
      " 5   2.파이썬의 동적 타이핑의 특징은 무엇인가요?                                                                                                                                                                                                                                                                                                                                                               13 non-null     object        \n",
      " 6   3. 다음 중 파이썬의 기본 데이터 타입이 아닌 것은 무엇인가요?                                                                                                                                                                                                                                                                                                                                                    13 non-null     object        \n",
      " 7   4. input() 함수의 반환값은 무엇인가요?                                                                                                                                                                                                                                                                                                                                                              13 non-null     object        \n",
      " 8   5. import 문의 주요 역할은 무엇인가요?                                                                                                                                                                                                                                                                                                                                                              13 non-null     object        \n",
      " 9   6. 다음 중 딕셔너리 메소드 items()의 역할은 무엇인가요?                                                                                                                                                                                                                                                                                                                                                    13 non-null     object        \n",
      " 10  7. list comprehension의 특징은 무엇인가요?                                                                                                                                                                                                                                                                                                                                                       13 non-null     object        \n",
      " 11  8.함수의 가변 길이 인자 *args의 역할은 무엇인가요?                                                                                                                                                                                                                                                                                                                                                        13 non-null     object        \n",
      " 12  9. 가상 환경(venv)의 주요 목적은 무엇인가요?                                                                                                                                                                                                                                                                                                                                                           13 non-null     object        \n",
      " 13  10. 데코레이터의 주요 역할은 무엇인가요?                                                                                                                                                                                                                                                                                                                                                                13 non-null     object        \n",
      " 14  11. 파이썬이 mymodule.c로 생성된 .so 파일을 동적 로딩할 때 사용하는 주요 내부 메커니즘은 무엇인가요?                                                                                                                                                                                                                                                                                                                       13 non-null     object        \n",
      " 15  12. 파이썬에서 모든 클래스는 기본적으로 object 클래스를 상속받습니다. object 클래스의 주요 역할은 무엇인가요?                                                                                                                                                                                                                                                                                                                   13 non-null     object        \n",
      " 16  13. Docker 컨테이너에서 docker run 명령의 역할은 무엇인가요?                                                                                                                                                                                                                                                                                                                                             13 non-null     object        \n",
      " 17  14. Docker, Poetry, venv를 사용할 때의 공통 목표는 무엇인가요?                                                                                                                                                                                                                                                                                                                                          13 non-null     object        \n",
      " 18  15. 다음 코드에서 @property와 @age.setter를 사용한 age 속성의 동작을 해석하세요.\n",
      "\n",
      "class Student:\n",
      "    def __init__(self, age):\n",
      "        self._age = age\n",
      "\n",
      "    @property\n",
      "    def age(self):\n",
      "        return self._age\n",
      "\n",
      "    @age.setter\n",
      "    def age(self, value):\n",
      "        if not isinstance(value, int) or value < 0:\n",
      "            raise ValueError(\"Age must be a non-negative integer\")\n",
      "        self._age = value  13 non-null     object        \n",
      "dtypes: datetime64[ns](1), float64(1), object(17)\n",
      "memory usage: 2.1+ KB\n",
      "None\n",
      "                    타임스탬프                    이메일 주소  Unnamed: 2   이름  \\\n",
      "0 2025-05-15 17:10:02.146       egwag1627@gmail.com         NaN  곽은규   \n",
      "1 2025-05-15 17:10:51.556      bubblerion@gmail.com         NaN  박재형   \n",
      "2 2025-05-15 17:11:31.815      qkrgkdbf10@gmail.com         NaN  박어진   \n",
      "3 2025-05-15 17:11:32.138       hjp990730@gmail.com         NaN  박해준   \n",
      "4 2025-05-15 17:11:34.551  yeongjae.jeong@gmail.com         NaN  정영재   \n",
      "\n",
      "  1.파이썬이 인터프리터 언어로서 가지는 주요 특징은 무엇인가요? 2.파이썬의 동적 타이핑의 특징은 무엇인가요?  \\\n",
      "0              코드는 컴파일 없이 한 줄씩 실행됩니다.   변수의 데이터 타입은 런타임에 결정됩니다.   \n",
      "1              코드는 컴파일 없이 한 줄씩 실행됩니다.   변수의 데이터 타입은 런타임에 결정됩니다.   \n",
      "2              코드는 컴파일 없이 한 줄씩 실행됩니다.   변수의 데이터 타입은 런타임에 결정됩니다.   \n",
      "3              코드는 컴파일 없이 한 줄씩 실행됩니다.   변수의 데이터 타입은 런타임에 결정됩니다.   \n",
      "4             코드는 실행 전에 어셈블리어로 변환됩니다.     변수는 정적 메모리 할당을 사용합니다.   \n",
      "\n",
      "  3. 다음 중 파이썬의 기본 데이터 타입이 아닌 것은 무엇인가요? 4. input() 함수의 반환값은 무엇인가요?  \\\n",
      "0                                array                        str   \n",
      "1                                float                      tuple   \n",
      "2                                array                        int   \n",
      "3                                array                        str   \n",
      "4                                array                      tuple   \n",
      "\n",
      "  5. import 문의 주요 역할은 무엇인가요? 6. 다음 중 딕셔너리 메소드 items()의 역할은 무엇인가요?  \\\n",
      "0     모듈, 패키지, 라이브러리를 가져옵니다.                       키와 값 쌍을 반환합니다.   \n",
      "1     모듈, 패키지, 라이브러리를 가져옵니다.                       키와 값 쌍을 반환합니다.   \n",
      "2     모듈, 패키지, 라이브러리를 가져옵니다.                       키와 값 쌍을 반환합니다.   \n",
      "3     모듈, 패키지, 라이브러리를 가져옵니다.                       키와 값 쌍을 반환합니다.   \n",
      "4     모듈, 패키지, 라이브러리를 가져옵니다.                         딕셔너리를 정렬합니다.   \n",
      "\n",
      "  7. list comprehension의 특징은 무엇인가요? 8.함수의 가변 길이 인자 *args의 역할은 무엇인가요?  \\\n",
      "0             간결하게 리스트를 생성하는 구문입니다.                   키워드 인자를 처리합니다.   \n",
      "1             간결하게 리스트를 생성하는 구문입니다.              여러 위치 인자를 튜플로 받습니다.   \n",
      "2             간결하게 리스트를 생성하는 구문입니다.                   키워드 인자를 처리합니다.   \n",
      "3             간결하게 리스트를 생성하는 구문입니다.                  함수의 반환값을 정의합니다.   \n",
      "4             간결하게 리스트를 생성하는 구문입니다.              여러 위치 인자를 튜플로 받습니다.   \n",
      "\n",
      "  9. 가상 환경(venv)의 주요 목적은 무엇인가요?   10. 데코레이터의 주요 역할은 무엇인가요?  \\\n",
      "0     프로젝트별로 독립된 파이썬 환경을 제공합니다.                   파일을 엽니다.   \n",
      "1     프로젝트별로 독립된 파이썬 환경을 제공합니다.  함수나 메소드의 동작을 수정하거나 확장합니다.   \n",
      "2     프로젝트별로 독립된 파이썬 환경을 제공합니다.  함수나 메소드의 동작을 수정하거나 확장합니다.   \n",
      "3     프로젝트별로 독립된 파이썬 환경을 제공합니다.  함수나 메소드의 동작을 수정하거나 확장합니다.   \n",
      "4     프로젝트별로 독립된 파이썬 환경을 제공합니다.  함수나 메소드의 동작을 수정하거나 확장합니다.   \n",
      "\n",
      "  11. 파이썬이 mymodule.c로 생성된 .so 파일을 동적 로딩할 때 사용하는 주요 내부 메커니즘은 무엇인가요?  \\\n",
      "0                                             dlopen                  \n",
      "1                                      PyFrameObject                  \n",
      "2                                             dlopen                  \n",
      "3                                      PyFrameObject                  \n",
      "4                                      PyFrameObject                  \n",
      "\n",
      "  12. 파이썬에서 모든 클래스는 기본적으로 object 클래스를 상속받습니다. object 클래스의 주요 역할은 무엇인가요?  \\\n",
      "0                                      클래스 상속을 제한한다.                      \n",
      "1                              모든 클래스의 메모리 할당을 관리한다.                      \n",
      "2                           모든 객체에 공통적인 기본 동작을 제공한다.                      \n",
      "3                           모든 객체에 공통적인 기본 동작을 제공한다.                      \n",
      "4                           모든 객체에 공통적인 기본 동작을 제공한다.                      \n",
      "\n",
      "  13. Docker 컨테이너에서 docker run 명령의 역할은 무엇인가요?  \\\n",
      "0                          컨테이너의 네트워크를 재설정한다.   \n",
      "1                            컨테이너를 시작하고 실행한다.   \n",
      "2                            컨테이너를 시작하고 실행한다.   \n",
      "3                           Docker 이미지를 빌드한다.   \n",
      "4                            컨테이너를 시작하고 실행한다.   \n",
      "\n",
      "  14. Docker, Poetry, venv를 사용할 때의 공통 목표는 무엇인가요?  \\\n",
      "0                             데이터베이스 스키마를 초기화한다.   \n",
      "1                      애플리케이션의 실행 환경을 일관되게 유지한다.   \n",
      "2                                 파이썬 코드를 컴파일한다.   \n",
      "3                      애플리케이션의 실행 환경을 일관되게 유지한다.   \n",
      "4                      애플리케이션의 실행 환경을 일관되게 유지한다.   \n",
      "\n",
      "  15. 다음 코드에서 @property와 @age.setter를 사용한 age 속성의 동작을 해석하세요.\\n\\nclass Student:\\n    def __init__(self, age):\\n        self._age = age\\n\\n    @property\\n    def age(self):\\n        return self._age\\n\\n    @age.setter\\n    def age(self, value):\\n        if not isinstance(value, int) or value < 0:\\n            raise ValueError(\"Age must be a non-negative integer\")\\n        self._age = value  \n",
      "0           age 속성을 읽고 쓸 수 있게 하며, 쓰기 시 유효성 검사를 수행한다.                                                                                                                                                                                                                                                                                                                                                    \n",
      "1           age 속성을 읽고 쓸 수 있게 하며, 쓰기 시 유효성 검사를 수행한다.                                                                                                                                                                                                                                                                                                                                                    \n",
      "2                            age 속성을 동적으로 계산하여 반환한다.                                                                                                                                                                                                                                                                                                                                                    \n",
      "3                                age 속성을 자동으로 초기화한다.                                                                                                                                                                                                                                                                                                                                                    \n",
      "4           age 속성을 읽고 쓸 수 있게 하며, 쓰기 시 유효성 검사를 수행한다.                                                                                                                                                                                                                                                                                                                                                    \n"
     ]
    }
   ],
   "source": [
    "df = pd.read_excel(\"/home/woo/kuBig2025/ml_dl_python/data/exel_test.xlsx\")\n",
    "print(df.info())\n",
    "print(df.head())"
   ]
  },
  {
   "cell_type": "code",
   "execution_count": 53,
   "id": "4d7b3ff6",
   "metadata": {},
   "outputs": [
    {
     "name": "stdout",
     "output_type": "stream",
     "text": [
      "                     타임스탬프                    이메일 주소  Unnamed: 2   이름  \\\n",
      "0  2025-05-15 17:10:02.146       egwag1627@gmail.com         NaN  곽은규   \n",
      "1  2025-05-15 17:10:51.556      bubblerion@gmail.com         NaN  박재형   \n",
      "2  2025-05-15 17:11:31.815      qkrgkdbf10@gmail.com         NaN  박어진   \n",
      "3  2025-05-15 17:11:32.138       hjp990730@gmail.com         NaN  박해준   \n",
      "4  2025-05-15 17:11:34.551  yeongjae.jeong@gmail.com         NaN  정영재   \n",
      "5  2025-05-15 17:13:31.648      dntjr9009@knou.ac.kr         NaN  이우석   \n",
      "6  2025-05-15 17:14:04.618   dbwlsgh612859@gmail.com         NaN  유진호   \n",
      "7  2025-05-15 17:14:10.211         qazxczf@gmail.com         NaN  이재윤   \n",
      "8  2025-05-15 17:14:31.617         kdp9477@gmail.com         NaN  김동필   \n",
      "9  2025-05-15 17:14:39.325         fkzktym@gmail.com         NaN  이화섭   \n",
      "10 2025-05-15 17:17:34.181    prunusmume99@gmail.com         NaN  임윤진   \n",
      "11 2025-05-15 17:21:10.866     seokjun7083@gmail.com         NaN  정석준   \n",
      "12 2025-05-16 08:49:13.641       rimshot99@naver.com         NaN  송우림   \n",
      "\n",
      "   1.파이썬이 인터프리터 언어로서 가지는 주요 특징은 무엇인가요? 2.파이썬의 동적 타이핑의 특징은 무엇인가요?  \\\n",
      "0               코드는 컴파일 없이 한 줄씩 실행됩니다.   변수의 데이터 타입은 런타임에 결정됩니다.   \n",
      "1               코드는 컴파일 없이 한 줄씩 실행됩니다.   변수의 데이터 타입은 런타임에 결정됩니다.   \n",
      "2               코드는 컴파일 없이 한 줄씩 실행됩니다.   변수의 데이터 타입은 런타임에 결정됩니다.   \n",
      "3               코드는 컴파일 없이 한 줄씩 실행됩니다.   변수의 데이터 타입은 런타임에 결정됩니다.   \n",
      "4              코드는 실행 전에 어셈블리어로 변환됩니다.     변수는 정적 메모리 할당을 사용합니다.   \n",
      "5               코드는 컴파일 없이 한 줄씩 실행됩니다.   변수의 데이터 타입은 런타임에 결정됩니다.   \n",
      "6               코드는 컴파일 없이 한 줄씩 실행됩니다.   변수의 데이터 타입은 런타임에 결정됩니다.   \n",
      "7               코드는 컴파일 없이 한 줄씩 실행됩니다.   변수의 데이터 타입은 런타임에 결정됩니다.   \n",
      "8               코드는 컴파일 없이 한 줄씩 실행됩니다.   변수의 데이터 타입은 런타임에 결정됩니다.   \n",
      "9               코드는 컴파일 없이 한 줄씩 실행됩니다.   변수의 데이터 타입은 런타임에 결정됩니다.   \n",
      "10              코드는 컴파일 없이 한 줄씩 실행됩니다.   변수의 데이터 타입은 런타임에 결정됩니다.   \n",
      "11              코드는 컴파일 없이 한 줄씩 실행됩니다.   변수의 데이터 타입은 런타임에 결정됩니다.   \n",
      "12              코드는 컴파일 없이 한 줄씩 실행됩니다.   변수의 데이터 타입은 런타임에 결정됩니다.   \n",
      "\n",
      "   3. 다음 중 파이썬의 기본 데이터 타입이 아닌 것은 무엇인가요? 4. input() 함수의 반환값은 무엇인가요?  \\\n",
      "0                                 array                        str   \n",
      "1                                 float                      tuple   \n",
      "2                                 array                        int   \n",
      "3                                 array                        str   \n",
      "4                                 array                      tuple   \n",
      "5                                 array                      tuple   \n",
      "6                                 array                        str   \n",
      "7                                 array                        str   \n",
      "8                                 array                        str   \n",
      "9                                 array                        str   \n",
      "10                                array                        int   \n",
      "11                                array                        str   \n",
      "12                                array                        str   \n",
      "\n",
      "   5. import 문의 주요 역할은 무엇인가요? 6. 다음 중 딕셔너리 메소드 items()의 역할은 무엇인가요?  \\\n",
      "0      모듈, 패키지, 라이브러리를 가져옵니다.                       키와 값 쌍을 반환합니다.   \n",
      "1      모듈, 패키지, 라이브러리를 가져옵니다.                       키와 값 쌍을 반환합니다.   \n",
      "2      모듈, 패키지, 라이브러리를 가져옵니다.                       키와 값 쌍을 반환합니다.   \n",
      "3      모듈, 패키지, 라이브러리를 가져옵니다.                       키와 값 쌍을 반환합니다.   \n",
      "4      모듈, 패키지, 라이브러리를 가져옵니다.                         딕셔너리를 정렬합니다.   \n",
      "5      모듈, 패키지, 라이브러리를 가져옵니다.                            값만 반환합니다.   \n",
      "6                 클래스를 생성합니다.                       키와 값 쌍을 반환합니다.   \n",
      "7      모듈, 패키지, 라이브러리를 가져옵니다.                       키와 값 쌍을 반환합니다.   \n",
      "8      모듈, 패키지, 라이브러리를 가져옵니다.                       키와 값 쌍을 반환합니다.   \n",
      "9      모듈, 패키지, 라이브러리를 가져옵니다.                       키와 값 쌍을 반환합니다.   \n",
      "10     모듈, 패키지, 라이브러리를 가져옵니다.                       키와 값 쌍을 반환합니다.   \n",
      "11     모듈, 패키지, 라이브러리를 가져옵니다.                       키와 값 쌍을 반환합니다.   \n",
      "12     모듈, 패키지, 라이브러리를 가져옵니다.                       키와 값 쌍을 반환합니다.   \n",
      "\n",
      "   7. list comprehension의 특징은 무엇인가요? 8.함수의 가변 길이 인자 *args의 역할은 무엇인가요?  \\\n",
      "0              간결하게 리스트를 생성하는 구문입니다.                   키워드 인자를 처리합니다.   \n",
      "1              간결하게 리스트를 생성하는 구문입니다.              여러 위치 인자를 튜플로 받습니다.   \n",
      "2              간결하게 리스트를 생성하는 구문입니다.                   키워드 인자를 처리합니다.   \n",
      "3              간결하게 리스트를 생성하는 구문입니다.                  함수의 반환값을 정의합니다.   \n",
      "4              간결하게 리스트를 생성하는 구문입니다.              여러 위치 인자를 튜플로 받습니다.   \n",
      "5              간결하게 리스트를 생성하는 구문입니다.              여러 위치 인자를 튜플로 받습니다.   \n",
      "6              간결하게 리스트를 생성하는 구문입니다.                  함수의 반환값을 정의합니다.   \n",
      "7              간결하게 리스트를 생성하는 구문입니다.              여러 위치 인자를 튜플로 받습니다.   \n",
      "8              간결하게 리스트를 생성하는 구문입니다.              여러 위치 인자를 튜플로 받습니다.   \n",
      "9              간결하게 리스트를 생성하는 구문입니다.              여러 위치 인자를 튜플로 받습니다.   \n",
      "10             간결하게 리스트를 생성하는 구문입니다.                   키워드 인자를 처리합니다.   \n",
      "11                리스트를 복사하는 데 사용됩니다.                  함수의 반환값을 정의합니다.   \n",
      "12                리스트를 복사하는 데 사용됩니다.              여러 위치 인자를 튜플로 받습니다.   \n",
      "\n",
      "   9. 가상 환경(venv)의 주요 목적은 무엇인가요?   10. 데코레이터의 주요 역할은 무엇인가요?  \\\n",
      "0      프로젝트별로 독립된 파이썬 환경을 제공합니다.                   파일을 엽니다.   \n",
      "1      프로젝트별로 독립된 파이썬 환경을 제공합니다.  함수나 메소드의 동작을 수정하거나 확장합니다.   \n",
      "2      프로젝트별로 독립된 파이썬 환경을 제공합니다.  함수나 메소드의 동작을 수정하거나 확장합니다.   \n",
      "3      프로젝트별로 독립된 파이썬 환경을 제공합니다.  함수나 메소드의 동작을 수정하거나 확장합니다.   \n",
      "4      프로젝트별로 독립된 파이썬 환경을 제공합니다.  함수나 메소드의 동작을 수정하거나 확장합니다.   \n",
      "5      프로젝트별로 독립된 파이썬 환경을 제공합니다.  함수나 메소드의 동작을 수정하거나 확장합니다.   \n",
      "6      프로젝트별로 독립된 파이썬 환경을 제공합니다.  함수나 메소드의 동작을 수정하거나 확장합니다.   \n",
      "7                 데이터베이스를 관리합니다.                   파일을 엽니다.   \n",
      "8      프로젝트별로 독립된 파이썬 환경을 제공합니다.  함수나 메소드의 동작을 수정하거나 확장합니다.   \n",
      "9      프로젝트별로 독립된 파이썬 환경을 제공합니다.  함수나 메소드의 동작을 수정하거나 확장합니다.   \n",
      "10     프로젝트별로 독립된 파이썬 환경을 제공합니다.  함수나 메소드의 동작을 수정하거나 확장합니다.   \n",
      "11     프로젝트별로 독립된 파이썬 환경을 제공합니다.  함수나 메소드의 동작을 수정하거나 확장합니다.   \n",
      "12     프로젝트별로 독립된 파이썬 환경을 제공합니다.  함수나 메소드의 동작을 수정하거나 확장합니다.   \n",
      "\n",
      "   11. 파이썬이 mymodule.c로 생성된 .so 파일을 동적 로딩할 때 사용하는 주요 내부 메커니즘은 무엇인가요?  \\\n",
      "0                                              dlopen                  \n",
      "1                                       PyFrameObject                  \n",
      "2                                              dlopen                  \n",
      "3                                       PyFrameObject                  \n",
      "4                                       PyFrameObject                  \n",
      "5                                       PyFrameObject                  \n",
      "6                                              dlopen                  \n",
      "7                                              dlopen                  \n",
      "8                                              dlopen                  \n",
      "9                                       PyFrameObject                  \n",
      "10                                      Py_BuildValue                  \n",
      "11                                             dlopen                  \n",
      "12                                      PyFrameObject                  \n",
      "\n",
      "   12. 파이썬에서 모든 클래스는 기본적으로 object 클래스를 상속받습니다. object 클래스의 주요 역할은 무엇인가요?  \\\n",
      "0                                       클래스 상속을 제한한다.                      \n",
      "1                               모든 클래스의 메모리 할당을 관리한다.                      \n",
      "2                            모든 객체에 공통적인 기본 동작을 제공한다.                      \n",
      "3                            모든 객체에 공통적인 기본 동작을 제공한다.                      \n",
      "4                            모든 객체에 공통적인 기본 동작을 제공한다.                      \n",
      "5                            모든 객체에 공통적인 기본 동작을 제공한다.                      \n",
      "6                            모든 객체에 공통적인 기본 동작을 제공한다.                      \n",
      "7                                  플랫폼별로 다른 동작을 정의한다.                      \n",
      "8                            모든 객체에 공통적인 기본 동작을 제공한다.                      \n",
      "9                            모든 객체에 공통적인 기본 동작을 제공한다.                      \n",
      "10                           모든 객체에 공통적인 기본 동작을 제공한다.                      \n",
      "11                                 플랫폼별로 다른 동작을 정의한다.                      \n",
      "12                           모든 객체에 공통적인 기본 동작을 제공한다.                      \n",
      "\n",
      "   13. Docker 컨테이너에서 docker run 명령의 역할은 무엇인가요?  \\\n",
      "0                           컨테이너의 네트워크를 재설정한다.   \n",
      "1                             컨테이너를 시작하고 실행한다.   \n",
      "2                             컨테이너를 시작하고 실행한다.   \n",
      "3                            Docker 이미지를 빌드한다.   \n",
      "4                             컨테이너를 시작하고 실행한다.   \n",
      "5                             컨테이너를 시작하고 실행한다.   \n",
      "6                             컨테이너를 시작하고 실행한다.   \n",
      "7                              컨테이너의 로그를 수집한다.   \n",
      "8                             컨테이너를 시작하고 실행한다.   \n",
      "9                             컨테이너를 시작하고 실행한다.   \n",
      "10                            컨테이너를 시작하고 실행한다.   \n",
      "11                           Docker 이미지를 빌드한다.   \n",
      "12                            컨테이너를 시작하고 실행한다.   \n",
      "\n",
      "   14. Docker, Poetry, venv를 사용할 때의 공통 목표는 무엇인가요?  \\\n",
      "0                              데이터베이스 스키마를 초기화한다.   \n",
      "1                       애플리케이션의 실행 환경을 일관되게 유지한다.   \n",
      "2                                  파이썬 코드를 컴파일한다.   \n",
      "3                       애플리케이션의 실행 환경을 일관되게 유지한다.   \n",
      "4                       애플리케이션의 실행 환경을 일관되게 유지한다.   \n",
      "5                       애플리케이션의 실행 환경을 일관되게 유지한다.   \n",
      "6                                 프로젝트의 문서를 생성한다.   \n",
      "7                              데이터베이스 스키마를 초기화한다.   \n",
      "8                       애플리케이션의 실행 환경을 일관되게 유지한다.   \n",
      "9                       애플리케이션의 실행 환경을 일관되게 유지한다.   \n",
      "10                      애플리케이션의 실행 환경을 일관되게 유지한다.   \n",
      "11                      애플리케이션의 실행 환경을 일관되게 유지한다.   \n",
      "12                      애플리케이션의 실행 환경을 일관되게 유지한다.   \n",
      "\n",
      "   15. 다음 코드에서 @property와 @age.setter를 사용한 age 속성의 동작을 해석하세요.\\n\\nclass Student:\\n    def __init__(self, age):\\n        self._age = age\\n\\n    @property\\n    def age(self):\\n        return self._age\\n\\n    @age.setter\\n    def age(self, value):\\n        if not isinstance(value, int) or value < 0:\\n            raise ValueError(\"Age must be a non-negative integer\")\\n        self._age = value  \n",
      "0            age 속성을 읽고 쓸 수 있게 하며, 쓰기 시 유효성 검사를 수행한다.                                                                                                                                                                                                                                                                                                                                                    \n",
      "1            age 속성을 읽고 쓸 수 있게 하며, 쓰기 시 유효성 검사를 수행한다.                                                                                                                                                                                                                                                                                                                                                    \n",
      "2                             age 속성을 동적으로 계산하여 반환한다.                                                                                                                                                                                                                                                                                                                                                    \n",
      "3                                 age 속성을 자동으로 초기화한다.                                                                                                                                                                                                                                                                                                                                                    \n",
      "4            age 속성을 읽고 쓸 수 있게 하며, 쓰기 시 유효성 검사를 수행한다.                                                                                                                                                                                                                                                                                                                                                    \n",
      "5            age 속성을 읽고 쓸 수 있게 하며, 쓰기 시 유효성 검사를 수행한다.                                                                                                                                                                                                                                                                                                                                                    \n",
      "6            age 속성을 읽고 쓸 수 있게 하며, 쓰기 시 유효성 검사를 수행한다.                                                                                                                                                                                                                                                                                                                                                    \n",
      "7            age 속성을 읽고 쓸 수 있게 하며, 쓰기 시 유효성 검사를 수행한다.                                                                                                                                                                                                                                                                                                                                                    \n",
      "8            age 속성을 읽고 쓸 수 있게 하며, 쓰기 시 유효성 검사를 수행한다.                                                                                                                                                                                                                                                                                                                                                    \n",
      "9            age 속성을 읽고 쓸 수 있게 하며, 쓰기 시 유효성 검사를 수행한다.                                                                                                                                                                                                                                                                                                                                                    \n",
      "10                                age 속성을 자동으로 초기화한다.                                                                                                                                                                                                                                                                                                                                                    \n",
      "11           age 속성을 읽고 쓸 수 있게 하며, 쓰기 시 유효성 검사를 수행한다.                                                                                                                                                                                                                                                                                                                                                    \n",
      "12           age 속성을 읽고 쓸 수 있게 하며, 쓰기 시 유효성 검사를 수행한다.                                                                                                                                                                                                                                                                                                                                                    \n"
     ]
    }
   ],
   "source": [
    "print(df)"
   ]
  },
  {
   "cell_type": "code",
   "execution_count": 55,
   "id": "4d83e3be",
   "metadata": {},
   "outputs": [],
   "source": [
    "df.to_csv(\"/home/woo/kuBig2025/ml_dl_python/data/csv_test.csv\")"
   ]
  },
  {
   "cell_type": "code",
   "execution_count": 59,
   "id": "eb8b2048",
   "metadata": {},
   "outputs": [
    {
     "name": "stdout",
     "output_type": "stream",
     "text": [
      "<class 'pandas.core.frame.DataFrame'>\n",
      "RangeIndex: 891 entries, 0 to 890\n",
      "Data columns (total 12 columns):\n",
      " #   Column       Non-Null Count  Dtype  \n",
      "---  ------       --------------  -----  \n",
      " 0   PassengerId  891 non-null    int64  \n",
      " 1   Survived     891 non-null    int64  \n",
      " 2   Pclass       891 non-null    int64  \n",
      " 3   Name         891 non-null    object \n",
      " 4   Sex          891 non-null    object \n",
      " 5   Age          714 non-null    float64\n",
      " 6   SibSp        891 non-null    int64  \n",
      " 7   Parch        891 non-null    int64  \n",
      " 8   Ticket       891 non-null    object \n",
      " 9   Fare         891 non-null    float64\n",
      " 10  Cabin        204 non-null    object \n",
      " 11  Embarked     889 non-null    object \n",
      "dtypes: float64(2), int64(5), object(5)\n",
      "memory usage: 83.7+ KB\n",
      "None\n",
      "   PassengerId  Survived  Pclass  \\\n",
      "0            1         0       3   \n",
      "1            2         1       1   \n",
      "2            3         1       3   \n",
      "3            4         1       1   \n",
      "4            5         0       3   \n",
      "\n",
      "                                                Name     Sex   Age  SibSp  \\\n",
      "0                            Braund, Mr. Owen Harris    male  22.0      1   \n",
      "1  Cumings, Mrs. John Bradley (Florence Briggs Th...  female  38.0      1   \n",
      "2                             Heikkinen, Miss. Laina  female  26.0      0   \n",
      "3       Futrelle, Mrs. Jacques Heath (Lily May Peel)  female  35.0      1   \n",
      "4                           Allen, Mr. William Henry    male  35.0      0   \n",
      "\n",
      "   Parch            Ticket     Fare Cabin Embarked  \n",
      "0      0         A/5 21171   7.2500   NaN        S  \n",
      "1      0          PC 17599  71.2833   C85        C  \n",
      "2      0  STON/O2. 3101282   7.9250   NaN        S  \n",
      "3      0            113803  53.1000  C123        S  \n",
      "4      0            373450   8.0500   NaN        S  \n",
      "Sex\n",
      "male      577\n",
      "female    314\n",
      "Name: count, dtype: int64\n"
     ]
    }
   ],
   "source": [
    "# 조회, 정렬, 조건 필터\n",
    "\n",
    "df = pd.read_csv(\"/home/woo/kuBig2025/ml_dl_python/data/titanic/train.csv\")\n",
    "print(df.info())\n",
    "print(df.head())\n",
    "\n",
    "print(df['Sex'].value_counts())"
   ]
  },
  {
   "cell_type": "code",
   "execution_count": 62,
   "id": "6afba0f3",
   "metadata": {},
   "outputs": [
    {
     "name": "stdout",
     "output_type": "stream",
     "text": [
      "     PassengerId  Survived  Pclass                                  Name  \\\n",
      "630          631         1       1  Barkworth, Mr. Algernon Henry Wilson   \n",
      "851          852         0       3                   Svensson, Mr. Johan   \n",
      "96            97         0       1             Goldschmidt, Mr. George B   \n",
      "493          494         0       1               Artagaveytia, Mr. Ramon   \n",
      "116          117         0       3                  Connors, Mr. Patrick   \n",
      "\n",
      "      Sex   Age  SibSp  Parch    Ticket     Fare Cabin Embarked  \n",
      "630  male  80.0      0      0     27042  30.0000   A23        S  \n",
      "851  male  74.0      0      0    347060   7.7750   NaN        S  \n",
      "96   male  71.0      0      0  PC 17754  34.6542    A5        C  \n",
      "493  male  71.0      0      0  PC 17609  49.5042   NaN        C  \n",
      "116  male  70.5      0      0    370369   7.7500   NaN        Q  \n"
     ]
    }
   ],
   "source": [
    "df.sort_values(by='Age', ascending=False, inplace=True) # 나이(Age) 기준으로 내림차순 정렬\n",
    "print(df.head())"
   ]
  },
  {
   "cell_type": "code",
   "execution_count": 69,
   "id": "5b829f09",
   "metadata": {},
   "outputs": [
    {
     "name": "stdout",
     "output_type": "stream",
     "text": [
      "                                            Name   Age     Sex\n",
      "422                           Zimmerman, Mr. Leo  29.0    male\n",
      "231                     Larsson, Mr. Bengt Edvin  29.0    male\n",
      "66                  Nye, Mrs. (Elizabeth Ramell)  29.0  female\n",
      "455                           Jalsevac, Mr. Ivan  29.0    male\n",
      "567  Palsson, Mrs. Nils (Alma Cornelia Berglund)  29.0  female\n",
      "..                                           ...   ...     ...\n",
      "664                  Lindqvist, Mr. Eino William  20.0    male\n",
      "404                      Oreskovic, Miss. Marija  20.0  female\n",
      "441                              Hampe, Mr. Leon  20.0    male\n",
      "725                          Oreskovic, Mr. Luka  20.0    male\n",
      "840                  Alhomaki, Mr. Ilmari Rudolf  20.0    male\n",
      "\n",
      "[220 rows x 3 columns]\n"
     ]
    }
   ],
   "source": [
    "cond = (df['Age'] >= 20)\n",
    "cond2 = (df['Age'] < 30)\n",
    "# print(df[cond & cond2])  # 나이가 20세 이상 30세 미만인 승객들만 출력\n",
    "# print(df[cond & cond2].info)\n",
    "print(df.loc[cond & cond2, ['Name', 'Age', 'Sex']])"
   ]
  },
  {
   "cell_type": "code",
   "execution_count": 71,
   "id": "021d1bd8",
   "metadata": {},
   "outputs": [
    {
     "data": {
      "text/html": [
       "<div>\n",
       "<style scoped>\n",
       "    .dataframe tbody tr th:only-of-type {\n",
       "        vertical-align: middle;\n",
       "    }\n",
       "\n",
       "    .dataframe tbody tr th {\n",
       "        vertical-align: top;\n",
       "    }\n",
       "\n",
       "    .dataframe thead th {\n",
       "        text-align: right;\n",
       "    }\n",
       "</style>\n",
       "<table border=\"1\" class=\"dataframe\">\n",
       "  <thead>\n",
       "    <tr style=\"text-align: right;\">\n",
       "      <th></th>\n",
       "      <th>PassengerId</th>\n",
       "      <th>Survived</th>\n",
       "      <th>Pclass</th>\n",
       "      <th>Age</th>\n",
       "      <th>SibSp</th>\n",
       "      <th>Parch</th>\n",
       "      <th>Fare</th>\n",
       "    </tr>\n",
       "  </thead>\n",
       "  <tbody>\n",
       "    <tr>\n",
       "      <th>count</th>\n",
       "      <td>891.000000</td>\n",
       "      <td>891.000000</td>\n",
       "      <td>891.000000</td>\n",
       "      <td>714.000000</td>\n",
       "      <td>891.000000</td>\n",
       "      <td>891.000000</td>\n",
       "      <td>891.000000</td>\n",
       "    </tr>\n",
       "    <tr>\n",
       "      <th>mean</th>\n",
       "      <td>446.000000</td>\n",
       "      <td>0.383838</td>\n",
       "      <td>2.308642</td>\n",
       "      <td>29.699118</td>\n",
       "      <td>0.523008</td>\n",
       "      <td>0.381594</td>\n",
       "      <td>32.204208</td>\n",
       "    </tr>\n",
       "    <tr>\n",
       "      <th>std</th>\n",
       "      <td>257.353842</td>\n",
       "      <td>0.486592</td>\n",
       "      <td>0.836071</td>\n",
       "      <td>14.526497</td>\n",
       "      <td>1.102743</td>\n",
       "      <td>0.806057</td>\n",
       "      <td>49.693429</td>\n",
       "    </tr>\n",
       "    <tr>\n",
       "      <th>min</th>\n",
       "      <td>1.000000</td>\n",
       "      <td>0.000000</td>\n",
       "      <td>1.000000</td>\n",
       "      <td>0.420000</td>\n",
       "      <td>0.000000</td>\n",
       "      <td>0.000000</td>\n",
       "      <td>0.000000</td>\n",
       "    </tr>\n",
       "    <tr>\n",
       "      <th>25%</th>\n",
       "      <td>223.500000</td>\n",
       "      <td>0.000000</td>\n",
       "      <td>2.000000</td>\n",
       "      <td>20.125000</td>\n",
       "      <td>0.000000</td>\n",
       "      <td>0.000000</td>\n",
       "      <td>7.910400</td>\n",
       "    </tr>\n",
       "    <tr>\n",
       "      <th>50%</th>\n",
       "      <td>446.000000</td>\n",
       "      <td>0.000000</td>\n",
       "      <td>3.000000</td>\n",
       "      <td>28.000000</td>\n",
       "      <td>0.000000</td>\n",
       "      <td>0.000000</td>\n",
       "      <td>14.454200</td>\n",
       "    </tr>\n",
       "    <tr>\n",
       "      <th>75%</th>\n",
       "      <td>668.500000</td>\n",
       "      <td>1.000000</td>\n",
       "      <td>3.000000</td>\n",
       "      <td>38.000000</td>\n",
       "      <td>1.000000</td>\n",
       "      <td>0.000000</td>\n",
       "      <td>31.000000</td>\n",
       "    </tr>\n",
       "    <tr>\n",
       "      <th>max</th>\n",
       "      <td>891.000000</td>\n",
       "      <td>1.000000</td>\n",
       "      <td>3.000000</td>\n",
       "      <td>80.000000</td>\n",
       "      <td>8.000000</td>\n",
       "      <td>6.000000</td>\n",
       "      <td>512.329200</td>\n",
       "    </tr>\n",
       "  </tbody>\n",
       "</table>\n",
       "</div>"
      ],
      "text/plain": [
       "       PassengerId    Survived      Pclass         Age       SibSp  \\\n",
       "count   891.000000  891.000000  891.000000  714.000000  891.000000   \n",
       "mean    446.000000    0.383838    2.308642   29.699118    0.523008   \n",
       "std     257.353842    0.486592    0.836071   14.526497    1.102743   \n",
       "min       1.000000    0.000000    1.000000    0.420000    0.000000   \n",
       "25%     223.500000    0.000000    2.000000   20.125000    0.000000   \n",
       "50%     446.000000    0.000000    3.000000   28.000000    0.000000   \n",
       "75%     668.500000    1.000000    3.000000   38.000000    1.000000   \n",
       "max     891.000000    1.000000    3.000000   80.000000    8.000000   \n",
       "\n",
       "            Parch        Fare  \n",
       "count  891.000000  891.000000  \n",
       "mean     0.381594   32.204208  \n",
       "std      0.806057   49.693429  \n",
       "min      0.000000    0.000000  \n",
       "25%      0.000000    7.910400  \n",
       "50%      0.000000   14.454200  \n",
       "75%      0.000000   31.000000  \n",
       "max      6.000000  512.329200  "
      ]
     },
     "execution_count": 71,
     "metadata": {},
     "output_type": "execute_result"
    }
   ],
   "source": [
    "df = pd.read_csv(\"/home/woo/kuBig2025/ml_dl_python/data/titanic/train.csv\")\n",
    "df.describe()  # 데이터프레임의 통계 요약 정보 출력"
   ]
  },
  {
   "cell_type": "code",
   "execution_count": 73,
   "id": "902be383",
   "metadata": {},
   "outputs": [
    {
     "name": "stdout",
     "output_type": "stream",
     "text": [
      "211.01912474630802\n",
      "29.69911764705882\n",
      "14.526497332334042\n",
      "0.42\n",
      "80.0\n",
      "Age    44.666667\n",
      "dtype: float64\n",
      "Age    4422.0\n",
      "dtype: float64\n"
     ]
    }
   ],
   "source": [
    "print(df['Age'].var()) # 나이(Age)의 분산 출력\n",
    "print(df['Age'].mean()) # 나이(Age)의 평균 출력\n",
    "print(df['Age'].std()) # 나이(Age)의 표준편차 출력\n",
    "print(df['Age'].min()) # 나이(Age)의 최솟값 출력\n",
    "print(df['Age'].max()) # 나이(Age)의 최댓값 출력\n",
    "\n",
    "cond = df['Age'] <= 50\n",
    "cond2 = df['Age'] >= 40\n",
    "print(df.loc[cond & cond2, ['Age']].mean())  # 나이가 40세 이상 50세 이하인 승객들의 평균 나이 출력\n",
    "print(df.loc[cond & cond2, ['Age']].sum())  # 나이가 40세 이상 50세 이하인 승객들의 나이 합계 출력"
   ]
  }
 ],
 "metadata": {
  "kernelspec": {
   "display_name": "Python 3",
   "language": "python",
   "name": "python3"
  },
  "language_info": {
   "codemirror_mode": {
    "name": "ipython",
    "version": 3
   },
   "file_extension": ".py",
   "mimetype": "text/x-python",
   "name": "python",
   "nbconvert_exporter": "python",
   "pygments_lexer": "ipython3",
   "version": "3.10.12"
  }
 },
 "nbformat": 4,
 "nbformat_minor": 5
}
